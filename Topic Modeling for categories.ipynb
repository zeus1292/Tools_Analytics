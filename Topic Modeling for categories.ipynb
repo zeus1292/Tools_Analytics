{
 "cells": [
  {
   "cell_type": "markdown",
   "metadata": {},
   "source": [
    "https://towardsdatascience.com/topic-modeling-and-latent-dirichlet-allocation-in-python-9bf156893c24"
   ]
  },
  {
   "cell_type": "code",
   "execution_count": 22,
   "metadata": {},
   "outputs": [],
   "source": [
    "import pandas as pd"
   ]
  },
  {
   "cell_type": "code",
   "execution_count": 57,
   "metadata": {},
   "outputs": [],
   "source": [
    "patha =  r'/Users/sanjayshah/Desktop/Tools_Analytics-master/df_processed.csv'\n",
    "with open(patha):\n",
    "    df=pd.read_csv(patha)\n",
    "    \n",
    "\n",
    "df = df.dropna(how='any',axis=0)\n"
   ]
  },
  {
   "cell_type": "code",
   "execution_count": 58,
   "metadata": {},
   "outputs": [
    {
     "name": "stdout",
     "output_type": "stream",
     "text": [
      "<class 'pandas.core.series.Series'>\n"
     ]
    }
   ],
   "source": [
    "print(type(df['Rating']))"
   ]
  },
  {
   "cell_type": "code",
   "execution_count": 59,
   "metadata": {},
   "outputs": [],
   "source": [
    "def categorize_data(df):\n",
    "    \n",
    "    #This list stores all the categories\n",
    "    category_list=list()\n",
    "\n",
    "    \n",
    "    #Assign categories to each book\n",
    "    \n",
    "    for i in range(len(df)):\n",
    "        if df['Rating'].iloc[i]>='4.5':\n",
    "            category_list.append(1)\n",
    "        elif df['Rating'].iloc[i]<'4.5' and df['Rating'].iloc[i]>='4':\n",
    "            category_list.append(2)\n",
    "        elif df['Rating'].iloc[i]<'4' and df['Rating'].iloc[i]>='3.5':\n",
    "            category_list.append(3)\n",
    "        elif df['Rating'].iloc[i]<'3.5' and df['Rating'].iloc[i]>='3':\n",
    "            category_list.append(4)\n",
    "        elif df['Rating'].iloc[i]<'3' and df['Rating'].iloc[i]>='2.5':\n",
    "            category_list.append(5)\n",
    "        else:\n",
    "            category_list.append(0)\n",
    "\n",
    "    #Add categories to the DF\n",
    "    df['Category']=category_list\n",
    "    \n",
    "    return df\n"
   ]
  },
  {
   "cell_type": "code",
   "execution_count": null,
   "metadata": {
    "scrolled": false
   },
   "outputs": [],
   "source": []
  },
  {
   "cell_type": "code",
   "execution_count": 147,
   "metadata": {},
   "outputs": [],
   "source": [
    "def aggregate_text(temp):\n",
    "    x=''\n",
    "    for i in range(len(temp)):\n",
    "        x=x+' '+temp['Description'].iloc[i]\n",
    "    return x.lower() "
   ]
  },
  {
   "cell_type": "code",
   "execution_count": 148,
   "metadata": {},
   "outputs": [],
   "source": [
    "import pandas as pd\n",
    "import matplotlib.pyplot as plt \n",
    "%matplotlib inline\n",
    "from wordcloud import WordCloud, STOPWORDS\n",
    "\n",
    "\n",
    "import numpy as np\n",
    "from PIL import Image\n",
    "\n",
    "DELETE_WORDS = []\n",
    "def remove_words(text_string,DELETE_WORDS=DELETE_WORDS):\n",
    "    for word in DELETE_WORDS:\n",
    "        text_string = text_string.replace(word,' ')\n",
    "    return text_string\n",
    "book_mask = np.array(Image.open(\"book.png\"))\n",
    "\n",
    "df = pd.read_csv('df_processed.csv')\n",
    "df=df.dropna(how='any',axis=0)\n",
    "\n",
    "#Remove short words\n",
    "MIN_LENGTH = 0\n",
    "def remove_short_words(text_string,min_length = MIN_LENGTH):\n",
    "    word_list = text_string.split()\n",
    "    for word in word_list:\n",
    "        if len(word) < min_length:\n",
    "            text_string = text_string.replace(' '+word+' ',' ',1)\n",
    "    return text_string\n",
    "\n",
    "COL_NUM = 2\n",
    "ROW_NUM = 3\n",
    "\n",
    "df=categorize_data(df)"
   ]
  },
  {
   "cell_type": "code",
   "execution_count": 174,
   "metadata": {},
   "outputs": [
    {
     "name": "stdout",
     "output_type": "stream",
     "text": [
      "original document: \n",
      "['', '', 'an', 'extraordinary', 'debut', 'novel—dark,', 'fast-paced,', 'thrilling—set', 'in', 'contemporary', 'and', 'nineteenth-century', 'europe,', 'the', 'united', 'states,', 'and', 'scotland,', 'involving', 'the', 'true', 'inventor', 'of', 'moving', 'pictures;', 'his', 'lost', 'film', 'made', 'in', 'edinburgh', 'in', '1888;', 'and', 'a', 'shocking', 'series', 'of', 'crimes', 'terrorizing', 'the', 'city', 'in', 'present', 'time.', '', 'the', 'time:', '2002.', 'the', 'city:', 'los', 'angeles.', '', 'alex', 'whitman,', 'movie', 'memorabilia', 'dealer', 'who', 'can', 'find', 'anything,', 'is', 'hired', 'by', 'an', 'eccentric', 'film', 'collector', 'to', 'locate', 'what', 'could', 'be', 'the', 'first\\xa0film', 'ever', 'made,', 'séance', 'infernale.', 'its', 'creator,', 'augustin', 'sekuler,', 'is', 'considered', 'by', 'those', 'who', 'know', 'about', 'movies', 'to', 'be', 'the', 'true\\xa0inventor\\xa0of', 'motion', 'pictures—not', 'the', 'lumiére', 'brothers;', 'nor', 'thomas', 'edison.', 'sekuler', 'was', 'to', 'present', 'to', 'the', 'world', 'in', '1890', 'his', 'greatest', 'new', 'invention,', 'the', 'first', 'of', 'its', 'kind—a', 'moving', 'picture', 'machine.', 'he', 'had', 'boarded', 'a', 'train', 'headed', 'from', 'dijon', 'to', 'paris,', 'but', 'never', 'arrived', 'at', 'gare', 'de', 'lyons', 'station.', 'he', 'and', 'his', 'moving', 'picture', 'machine', 'vanished,', 'never', 'to', 'be', 'heard', 'from', 'again,', 'his', 'claim', 'in', 'history', 'as', 'the', 'inventor', 'of', 'the', 'moving', 'image', 'vanishing', 'with', 'him.', '', 'when', 'whitman', 'tracks', 'down', 'what', 'could', 'be', 'fragments', 'of', 'sekuler’s', 'famously', 'lost', 'film,', 'questions', 'are', 'raised—about', 'sekuler,', 'about', 'what', 'happened', 'to', 'him', 'and', 'to', 'his', 'invention,', 'and', 'about', 'the', 'film', 'itself.', 'in', 'this', 'riveting', 'story', 'of', 'suspense,', 'the', 'search', 'for', 'the', 'answers', 'lead', 'to', 'curious', 'riddles', 'that', 'may', '(or', 'may', 'not)', 'shed', 'light', 'on', 'sekuler’s', 'darkest', 'secret', 'locked', 'away', 'for', 'more', 'than', 'a', 'century,', 'riddles', 'that', 'set', 'in', 'motion', 'a', 'frantic', 'hunt', 'taking', 'whitman', 'from', 'los', 'angeles', 'and', 'paris,', 'to', 'geneva,', 'and', 'finally', 'to', 'sekuler’s', 'ancient', 'labyrinthine', 'city', 'of', 'edinburgh,', 'where', 'the', 'stakes', 'become', 'ratcheted', 'up', 'as', 'the', 'film’s', 'riddles', 'lead', 'to', 'a', 'darker,', 'far', 'more', 'dangerous', 'mystery.', '', 'one', \"woman's\", 'misguided', 'quest', 'for', 'love,', 'sex,', 'and', 'as', 'much', 'airtime', 'as', 'possible', '.', '.', '.on', 'the', 'howard', 'stern', 'show,', 'radio', 'personality', 'lisa', 'glasberg,', 'aka', 'lisa', 'g.,', 'is', 'painted', 'as', 'a', 'violin-playing,', 'cookie-baking', 'cat', 'lady,', 'but', \"that's\", 'all', 'about', 'to', 'change.', 'this', 'alleged', 'wallflower', 'once', 'used', 'her', 'skills', 'in', 'the', 'kitchen', 'to', 'show', 'up', 'at', 'a', \"suitor's\", 'doorstep', 'wearing', 'nothing', 'but', 'a', 'fur', 'coat', 'and', 'carrying', 'a', 'plate', 'of', 'freshly', 'baked', 'cookies.now,', 'in', 'her', 'unrated', 'memoir,', 'lisa', 'g.', 'reveals', 'all', 'about', 'her', 'adventures', 'and', 'misadventures', 'growing', 'up', 'and', 'looking', 'for', 'love', 'in', 'all', 'the', 'wrong', 'places.', 'her', 'journey', 'begins', 'in', 'the', 'only', 'place', 'where', 'she', 'felt', 'comfortable—behind', 'the', 'microphone.', 'lisa', 'became', 'a', 'workaholic', 'with', 'a', 'larger-than-life', 'radio', 'personality.', 'but', 'when', 'the', '\"on', 'air\"', 'lights', 'switched', 'off,', 'she', 'struggled', 'to', 'find', 'her', 'true', 'self.', 'through', 'therapy', 'and', 'some', 'soul-searching,', 'she', 'transformed', 'from', 'an', 'insecure', 'young', 'woman', 'who', 'attempted', 'to', 'win', 'over', 'men', 'with', 'her', 'culinary', 'prowess', 'into', 'an', 'independent', 'adult', 'who', 'finally', 'learned', 'to', 'love', \"herself.lisa's\", 'story', 'is', 'full', 'of', 'inspiration', 'and', 'lots', 'of', 'laughs.', 'smart,', 'sassy,', 'and', 'stacked,', 'lisa', 'always', 'put', 'her', 'career', 'first.', 'while', 'searching', 'for', 'the', 'perfect', 'job,', 'the', 'aspiring', 'radio', 'star', 'dated', 'her', 'way', 'through', 'an', 'urban', \"bachelorette's\", 'predictable', 'gallery', 'of', 'potential', 'mates.', 'in', 'sex,', 'lies,', 'and', 'cookies,', 'lisa', 'details', 'her', 'hilarious', 'sexcapades,', 'which', 'include', 'everyone', 'from', 'a', 'nice', 'jewish', 'doctor', 'with', 'a', 'unique', 'fetish', 'to', 'the', 'classic', 'unavailable', 'type', 'who', 'wants', 'an', '\"open', 'relationship.\"lisa', 'g.', 'also', 'shares', 'behind-the-scenes', 'stories', 'from', 'her', 'a-list', 'celebrity', 'interviews,', 'friendships,', 'and', 'time', 'hanging', 'with', 'hip-hop', 'royalty', 'like', 'p.', 'diddy,', 'will', 'smith,', 'and', 'flavor', 'flav.along', 'the', 'way,', 'lisa', 'g.', 'became', 'known', 'for', 'having', 'the', 'hottest', 'ticket', 'in', 'town—entry', 'into', 'her', 'exclusive', 'and', 'legendary', 'cookie', 'parties.', 'the', 'book', 'includes', 'the', 'recipes', 'for', 'more', 'than', 'twenty-five', 'of', 'lisa', \"g.'s\", 'famous', 'desserts,', 'like', '\"losing', 'my', 'cherry', 'cookies\"', 'and', '\"double', 'd-licious', 'oatmeal', 'cookies,\"', 'as', 'well', 'as', 'tips', 'for', 'hosting', 'your', 'own', 'fabulous', 'cookie', 'party.', 'sex,', 'lies', 'and', 'cookies', 'is', 'a', 'tasty', 'read', 'that', 'proves', 'why', 'the', 'most', 'satisfying', 'relationship', \"you'll\", 'ever', 'have', 'starts', 'with', 'learning', 'to', 'love', 'yourself', '(and', 'how', 'a', 'little', 'cookie', 'dough', 'can', 'help).', '', 'thomas', 's.', 'kuhn’s', 'the', 'structure', 'of', 'scientific', 'revolutions', 'was', 'a', 'watershed', 'event', 'when', 'it', 'was', 'published', 'in', '1962,', 'upending', 'the', 'previous', 'understanding', 'of', 'science', 'as', 'a', 'slow,', 'logical', 'accumulation', 'of', 'facts', 'and', 'introducing,', 'with', 'the', 'concept', 'of', 'the', '“paradigm', 'shift,”', 'social', 'and', 'psychological', 'considerations', 'into', 'the', 'heart', 'of', 'the', 'scientific', 'process.', 'more', 'than', 'fifty', 'years', 'after', 'its', 'publication,', 'kuhn’s', 'work', 'continues', 'to', 'influence', 'thinkers', 'in', 'a', 'wide', 'range', 'of', 'fields,', 'including', 'scientists,', 'historians,', 'and', 'sociologists.', 'it', 'is', 'clear', 'that', 'the', 'structure', 'of', 'scientific', 'revolutions', 'itself', 'marks', 'no', 'less', 'of', 'a', 'paradigm', 'shift', 'than', 'those', 'it', 'describes.', '\\xa0\\xa0\\xa0\\xa0\\xa0\\xa0\\xa0\\xa0\\xa0\\xa0\\xa0', 'in', 'kuhn’s', '“structure', 'of', 'scientific', 'revolutions”', 'at', 'fifty,', 'leading', 'social', 'scientists', 'and', 'philosophers', 'explore', 'the', 'origins', 'of', 'kuhn’s', 'masterwork', 'and', 'its', 'legacy', 'fifty', 'years', 'on.', 'these', 'essays', 'exhume', 'important', 'historical', 'context', 'for', 'kuhn’s', 'work,', 'critically', 'analyzing', 'its', 'foundations', 'in', 'twentieth-century', 'science,', 'politics,', 'and', 'kuhn’s', 'own', 'intellectual', 'biography:', 'his', 'experiences', 'as', 'a', 'physics', 'graduate', 'student,', 'his', 'close', 'relationship', 'with', 'psychologists', 'before', 'and', 'after', 'the', 'publication', 'of', 'structure,', 'and', 'the', 'cold', 'war', 'framework', 'of', 'terms', 'such', 'as', '“world', 'view”', 'and', '“paradigm.”', '', 'the', '“princeton', 'mom”', 'who', 'caused', 'a', 'stir', 'with', 'her', 'controversial', 'letter', 'to', 'the', 'daily', 'princetonian', 'offering', 'advice', 'to', 'young', 'women', 'at', 'princeton', 'about', 'marrying', 'early', 'delivers', 'more', 'unvarnished', 'truths', 'in', 'this', 'smart,', 'straightforward,', 'and', 'witty', 'book', 'of', 'life', 'lessons.you’re', 'single', 'and', 'you', 'know', 'what', 'you', 'want', 'in', 'your', 'life.', 'and', 'if', 'your', 'dreams', 'include', 'getting', 'married', 'and', 'having', 'children,', 'this', 'fresh', 'new', 'approach', 'to', 'finding', 'the', 'right', 'one', 'at', 'the', 'right', 'time', 'shows', 'the', 'way', 'to', 'make', 'those', 'dreams', 'a', 'reality.', '', 'a', 'graduate', 'of', 'one', 'of', 'the', 'first', 'classes', 'of', 'women', 'at', 'princeton', 'university,', 'susan', 'patton', 'has', 'heard', 'smart', 'young', 'women', 'admit', 'they', 'aspire', 'to', 'marriage', 'and', 'motherhood', 'but', 'have', 'no', 'model', 'for', 'pursuing', 'those', 'goals;', 'reflecting', 'on', 'the', 'choices', 'she', 'made', 'in', 'her', 'early', 'twenties,', 'she’s', 'boldly', 'turned', 'the', 'tables', 'on', 'our', '“career', 'first”', 'conditioning', 'and', 'suggests', 'that', 'you', 'seek', 'out', 'the', 'golden', 'opportunities', 'right', 'in', 'front', 'of', 'you,', 'right', 'now.', '', 'in', 'marry', 'smart,', 'she', 'shares', 'the', 'wisdom', 'of', 'her', 'experience', 'with', 'warmth,', 'humor,', 'and', 'very', 'straight', 'talk.', 'but', 'this', 'is', 'not', 'your', 'mother’s', 'dating', 'guide—', 'marry', 'smart', 'celebrates', 'the', 'vital', 'achievements', 'of', 'traditional', 'marriage', 'and', 'motherhood,', 'and', 'gives', 'you', 'the', 'essential', 'life', 'strategies', 'that', 'no', 'one’s', 'talking', 'about,', 'including', 'how', 'to:', '•', 'strike', 'while', 'the', 'greatest', 'number', 'of', 'single', 'young', 'men', 'is', 'available', 'to', 'you', '•', 'attract', 'a', 'man', 'who', 'is', 'your', 'intellectual', 'and', 'emotional', 'equal', '•', 'date', 'to', 'find', 'a', 'mate—and', 'how', 'to', 'spot', 'a', 'diamond', 'in', 'the', 'rough', '•', 'find', 'total', 'satisfaction', 'in', 'your', 'roles', 'as', 'a', 'wife', 'and', 'mother', '', 'whether', 'or', 'not', 'you', 'are', 'in', 'college,', 'whether', 'your', 'future', 'plans', 'are', 'clear', 'or', 'still', 'undecided,', 'marry', 'smart', 'is', 'a', 'must-read', 'for', 'all', 'young', 'women', 'who', 'want', 'to', 'get', 'the', 'most', 'out', 'of', 'love', 'and', 'life.', '', 'this', 'book', 'contains', 'more', 'than', '200', 'color', 'photos', 'of', 'point', 'locations,', 'as', 'well', 'as', 'a', 'limited', 'listing', 'of', 'indications.', 'the', 'author', 'created', 'this', 'map', 'to', 'make', 'it', 'easier', 'for', 'the', 'reader', 'to', 'correctly', 'locate', \"tung's\", 'points.', 'each', 'point', 'is', 'identified', 'individually', 'and', 'also', 'in', 'relation', 'to', 'additional', 'tung', 'points.', '', 'drawing', 'heavily', 'from', 'candid', 'interviews', 'conducted', 'with', 'cadets', 'and', 'trainers', 'of', 'the', 'gamecock', 'battalion', 'at', 'the', 'university', 'of', 'south', 'carolina,', 'army', '101', 'traces', 'the', 'experiences', 'of', 'a', 'representative', 'mix', 'of', 'students―freshmen', 'to', 'seniors', 'of', 'both', 'sexes', 'and', 'many', 'races―essentially', 'minoring', 'in', 'the', 'military', 'while', 'also', 'pursuing', 'regular', 'undergraduate', 'degrees', 'in', 'diverse', 'fields.', 'axe', 'invites', 'us', 'along', 'to', 'witness', 'the', 'quagmire', 'of', 'confusion', 'in', 'a', 'nighttime', 'training', 'exercise,', 'the', 'immersion', 'into', 'procedures', 'and', 'jargon', 'of', 'the', 'classroom,', 'and', 'the', 'high', 'aspirations', 'of', 'candidates', 'at', 'airborne', 'school.', 'replete', 'with', 'a', 'vivid', 'account', 'of', 'the', 'annual', 'ranger', 'challenge―the', 'varsity', 'sport', 'of', 'rotc―and', 'a', 'campus', 'visit', 'from', 'the', 'commander', 'in', 'chief,', 'george', 'w.', 'bush,', \"axe's\", 'narrative', 'follows', 'the', 'unit', 'through', 'the', 'exercises', 'and', 'experiences', 'that', 'are', 'designed', 'to', 'recast', 'the', 'cadets', 'as', 'junior', 'officers', 'in', \"america's\", 'long', 'war', 'on', 'terrorism.', 'not', 'all', 'guns', 'and', 'marches,', 'the', 'volume', 'also', 'explores', 'the', 'rivalry', 'and', 'revelry', 'that', 'define', 'the', \"cadets'\", 'off-hours', 'as', 'much', 'as', 'they', 'characterize', 'the', 'lives', 'of', 'all', 'college', 'students.', '', 'jenelle', 'evans', 'shares', 'the', 'raw', 'emotional', 'stories', 'of', 'her', 'youth', 'that', 'helped', 'shape', 'the', 'woman', 'she', 'has', 'become,', 'all', 'drawn', 'from', 'her', 'childhood', 'diary.from', 'her', 'appearances', 'on', '16', 'and', 'pregnant', 'and', 'then', 'teen', 'mom', '2,', 'jenelle', 'evans’s', 'life', 'was', 'put', 'on', 'display', 'for', 'all', 'to', 'see,', 'and', 'all', 'to', 'judge.', 'everyone', 'thinks', 'they', 'know', 'her,', 'but', 'what', 'the', 'audience', 'can’t', 'see', 'runs', 'deeper', 'than', 'what', 'is', 'left', 'on', 'the', 'editing', 'room', 'floor.', 'what', 'of', 'jenelle’s', 'complicated', 'life', 'before', 'her', 'newfound', 'fame?', 'an', 'overbearing', 'mother.', 'erratic', 'siblings.', 'a', 'father', 'who', 'didn’t', 'seem', 'to', 'care.', 'though', 'there', 'was', 'no', 'camera', 'to', 'capture', 'those', 'difficult', 'moments,', 'there', 'were,', 'thankfully,', 'a', 'few', 'well-kept', 'diaries.', 'join', 'jenelle', 'as', 'she', 'tells', 'her', 'story', 'through', 'the', 'eyes', 'of', 'her', 'troubled', 'youth,', 'taken', 'from', 'her', 'memories', 'that', 'were', 'scrawled', 'across', 'the', 'pages', 'of', 'her', 'own', 'diaries.', '', 'from', 'reporter', 'and', 'fox', 'news', 'star', 'michelle', 'fields,', 'a', 'revelation', 'of', 'how', 'the', 'corruption', 'and', 'waste', 'in', 'american', 'politics', 'begins', 'with', 'our', 'elected', 'politicians,', 'and', 'how', 'to', 'take', 'the', 'country', 'back', 'from', 'those', 'that', 'extort', 'its', 'values', 'for', 'personal', 'gain', '\\xa0', 'our', 'founding', 'fathers', 'rejected', 'the', 'notion', 'of', 'royalty', 'and', 'fought', 'against', 'extravagance,', 'pomp,', 'and', 'circumstance.', 'but', 'today', 'in', 'washington,', 'members', 'of', 'the', 'united', 'states', 'government', 'enjoy', 'lifestyle', 'perks', 'that', 'would', 'make', 'marie', 'antoinette', 'envious.', 'our', 'public', 'servants', 'are', 'chauffeured', 'to', 'their', 'capitol', 'hill', 'offices', 'by', 'town', 'cars', 'even', 'when', 'they', 'live', 'only', 'two', 'blocks', 'away.', 'they', 'enjoy', 'their', 'own', 'taxpayer-subsidized', 'senate', 'hair', 'care', 'services,', 'vacation', 'with', 'their', 'families', 'in', 'exotic', 'locations', 'for', 'free,', 'and', 'exempt', 'themselves', 'and', 'their', 'friends', 'from', 'the', 'laws', 'that', 'they', 'create.', '', '\\xa0\\xa0\\xa0\\xa0\\xa0\\xa0\\xa0\\xa0\\xa0\\xa0\\xa0', 'in', 'barons', 'of', 'the', 'beltway,', 'fox', 'news', 'contributor', 'michelle', 'fields', 'exposes', 'the', 'hidden', 'perks,', 'the', 'freebies,', 'and', 'the', 'ego', 'stroking', 'that', 'define', 'life', 'for', 'a', 'political', 'class', 'that', 'is', 'out', 'of', 'touch', 'and', 'out', 'to', 'lunch.', 'put', 'under', 'the', 'spotlight', 'are', 'figures', 'such', 'as', 'congresswoman', 'nancy', 'pelosi,', 'senate', 'minority', 'leader', 'harry', 'reid,', 'and', 'vice', 'president', 'joe', 'biden,', 'who', 'continue', 'to', 'abuse', 'their', 'power,', 'build', 'their', 'personal', 'fortunes,', 'and', 'climb', 'up', 'the', 'washington', 'ladder.', 'and,', 'while', 'our', 'founding', 'fathers', 'started', 'a', 'revolution', 'to', 'break', 'away', 'from', 'a', 'monarchy,', \"it's\", 'clear', 'that', 'america', 'is', 'beginning', 'to', 'have', 'one', 'of', 'its', 'own.', '', 'barons', 'of', 'the', 'beltway', 'reveals', 'how', 'to', 'overthrow', 'our', 'political', 'class', 'in', 'order', 'to', 'return', 'to', 'the', 'principles', 'the', 'founding', 'fathers', 'originally', 'envisioned', 'for', 'america—a', 'country', 'of', 'greater', 'opportunity', 'that', 'we', 'can', 'pass', 'onto', 'the', 'next', 'generations.', '', 'it’s', 'time', 'to', 'set', 'the', 'record', 'straight', 'about', 'steven', 'avery.the', 'netflix', 'series', 'making', 'a', 'murderer', 'was', 'a', 'runaway', 'hit,', 'with', 'over', '19', 'million', 'us', 'viewers', 'in', 'the', 'first', '35', 'days.', 'the', 'series', 'left', 'many', 'with', 'the', 'opinion', 'that', 'steven', 'avery,', 'a', 'man', 'falsely', 'imprisoned', 'for', 'almost', '20', 'years', 'on', 'a', 'previous,', 'unrelated', 'assault', 'charge,', 'had', 'been', 'framed', 'by', 'a', 'corrupt', 'police', 'force', 'and', 'district', 'attorney’s', 'office', 'for', 'the', 'murder', 'of', 'a', 'young', 'photographer.', 'viewers', 'were', 'outraged,', 'and', 'hundreds', 'of', 'thousands', 'demanded', 'a', 'pardon', 'for', 'avery.', 'the', 'chief', 'villain', 'of', 'the', 'series?', 'ken', 'kratz,', 'the', 'special', 'prosecutor', 'who', 'headed', 'the', 'investigation', 'and', 'trial.', 'kratz’s', 'later', 'misdeeds\\x97prescription', 'drug', 'abuse', 'and', 'sexual', 'harassment\\x97only', 'cemented', 'belief', 'in', 'his', 'corruption.this', 'book', 'tells', 'you', 'what', 'making', 'a', 'murderer', 'didn’t.while', 'indignation', 'at', 'the', 'injustice', 'of', 'his', 'first', 'imprisonment', 'makes', 'it', 'tempting', 'to', 'believe', 'in', 'his', 'innocence,', 'avery:', 'the', 'case', 'against', 'steven', 'avery', 'and', 'what', 'making', 'a', 'murderer', 'gets', 'wrong', 'and', 'the', 'evidence', 'shared', 'inside\\x97examined', 'thoroughly', 'and', 'dispassionately\\x97prove', 'that,', 'in', 'this', 'case,', 'the', 'criminal', 'justice', 'system', 'worked', 'just', 'as', 'it', 'should.with', 'avery,', 'ken', 'kratz', 'puts', 'doubts', 'about', 'steven', 'avery’s', 'guilt', 'to', 'rest.', 'in', 'this', 'exclu-', 'sive', 'insider’s', 'look', 'into', 'the', 'controversial', 'case,', 'kratz', 'lets', 'the', 'evidence', 'tell', 'the', 'story,', 'sharing', 'details', 'and', 'insights', 'unknown', 'to', 'the', 'public.', 'he', 'reveals', 'the', 'facts', 'making', 'a', 'murderer', 'conveniently', 'left', 'out', 'and', 'then', 'candidly', 'addresses', 'the', 'aftermath\\x97openly', 'discussing,', 'for', 'the', 'first', 'time,', 'his', 'own', 'struggle', 'with', 'addiction', 'that', 'led', 'him', 'to', 'lose', 'everything.avery', 'systematically', 'erases', 'the', 'uncertainties', 'introduced', 'by', 'the', 'netflix', 'series,', 'confirming,', 'once', 'and', 'for', 'all,', 'that', 'steven', 'avery', 'is', 'guilty', 'of', 'the', 'murder', 'of', 'teresa', 'halbach.', '', 'a', 'celebration', 'of', 'the', 'quirky,', 'surprising,', 'and', 'often', 'spectacular', 'work', 'of', 'dutch', 'fashion', 'designers', 'viktor', '&', 'rolfconceived', 'and', 'designed', 'by', 'acclaimed', 'graphic', 'designer', 'irma', 'boom,', 'this', 'book', 'brings', 'to', 'life', 'the', 'legendary', 'conceptual', 'creations', 'of', 'dutch', 'duo', 'viktor', '&', 'rolf.', 'entirely', 'made', 'up', 'of', 'covers,', 'each', 'of', 'which', 'relates', 'to', 'a', 'specific', 'show,', 'with', 'images,', 'sketches,', 'and', 'quotes', 'showcasing', 'that', 'particular', 'collection,', 'it', 'elevates', 'bookmaking', 'to', 'an', 'entirely', 'new', 'level', 'while', 'referencing', 'the', 'dramatic', 'layers', 'that', 'feature', 'in', 'the', \"designers'\", 'work.', 'exploring', 'viktor', '&', \"rolf's\", 'signature', 'stunning', 'style,', 'this', 'book', 'is', 'the', 'ultimate', 'homage', 'to', 'the', 'spectacle', 'of', 'fashion.', '', 'published', 'to', 'coincide', 'with', 'the', 'thirtieth', 'anniversary', 'of', 'the', 'superbike', 'world', 'championship,', 'the', 'world', 'according', 'to', 'foggy', 'will', 'delight', 'the', 'legions', 'of', 'motor', 'sport', 'fans', 'in', 'the', 'uk', 'and', 'beyond,', 'and', 'will', 'be', 'lapped', 'by', 'those', 'who', 'have', 'enjoyed', 'books', 'by', 'valentino', 'rossi,', 'guy', 'martin,', 'michael', 'dunlop,', 'john', 'mcguinness,', 'ian', 'hutchinson', 'and', 'freddie', 'spencer.this', 'is', 'a', 'full-throttle,', 'rip-roaring,', 'white-knuckle', 'pillion', 'ride', 'with', 'motorcycle', 'racing', 'icon', 'carl', 'fogarty,', 'a', 'man', 'the', 'nation', 'took', 'to', 'their', 'hearts', 'as', \"'king\", 'of', 'the', \"jungle'\", 'in', 'the', '2014', 'series', 'of', \"i'm\", 'a', 'celebrity...get', 'me', 'out', 'of', 'here!the', 'world', 'according', 'to', 'foggy', 'is', 'packed', 'with', 'hilarious', 'tales', 'from', 'inside', 'and', 'outside', 'the', 'sport.', 'racers', 'past', 'and', 'present,', 'including', 'valentino', 'rossi,', 'marc', 'marquez,', 'steve', 'hislop', 'and', 'guy', 'martin,', 'all', 'come', 'under', 'foggy', 'scrutiny.he', 'dips', 'into', 'the', 'memory', 'banks', 'to', 'relive', 'those', 'special', 'moments', 'of', 'his', 'career', 'in', 'world', 'superbikes', 'and', 'at', 'his', \"'spiritual\", \"home',\", 'the', 'isle', 'of', 'man', 'tt,', 'and', 'talks', 'candidly', 'for', 'the', 'first', 'time', 'about', 'his', 'venture', 'into', 'team', 'ownership,', 'as', 'well', 'as', 'his', 'inner', 'demons.carl', 'lifts', 'the', 'lid', 'on', 'his', 'madcap', 'mates', 'and', 'their', 'daft', 'antics', 'and', 'shares', 'his', 'quirky', 'wisdom', 'on', 'topics', 'as', 'diverse', 'as', 'cricket,', 'hikers,', 'news', 'at', 'ten,', 'fainting', 'goats,', 'traffic', 'lights', 'and', 'the', 'full', 'english', 'breakfast', 'on', 'trains.ultimately,', 'the', 'world', 'according', 'to', 'foggy', 'reveals', 'the', 'real', 'man', 'behind', 'the', 'visor:', 'cheeky,', 'witty,', 'down-to-earth', '...', 'and', 'every-so-slightly', 'bonkers.', '', 'april', 'simonson', 'hated', 'all', 'men.', 'they', 'were', 'cruel,', 'sinful', 'beasts.', 'her', 'disfigured', 'face', 'was', 'proof.', 'that', 'is', 'until', 'she', 'met', 'jerek', 'brinkley.', 'then,', 'as', 'the', 'revered', 'sultana', 'explodes,', 'april', 'falls', 'into', 'the', 'dark,', 'muddy', 'waters', 'of', 'the', 'mississippi', 'river', 'terrified', \"she'll\", 'never', 'see', 'the', 'light', 'of', 'day', 'or', 'the', 'handsome', 'riverboat', 'gambler', 'again.', 'jerek', 'brinkley', 'fought', 'hell', 'and', 'high', 'water', 'to', 'save', 'the', 'northern', 'vixen', 'whoâ€™d', 'won', 'his', 'heart', 'with', 'her', 'cards', 'tricks,', 'only', 'to', 'fear', 'allan', \"pinkerton's\", 'arrival', 'in', 'memphis', 'might', 'reveal', 'secrets', \"he's\", 'not', 'ready', 'for', 'her', 'to', 'know.', 'based', 'on', \"history's\", 'greatest', 'maritime', 'disaster,', 'an', 'april', 'to', 'remember,', 'sprinkled', 'with', 'real', 'facts', 'and', 'events,', 'revives', 'the', 'sultana,', 'a', 'civil', 'war', 'riverboat', 'whose', 'death', 'toll', 'surpassed', 'the', \"titanic's,\", 'and', 'offers', 'a', 'new', 'twist', 'on', 'what', 'might', 'have', 'happened', 'that', 'fateful', 'night', 'in', '1865.', '', 'electronic', 'body', 'music', '(ebm)', 'is', 'a', 'music', 'genre', 'that', 'combines', 'elements', 'of', 'post-industrial', 'music', 'and', 'synthpunk.', '', 'from', 'america', 'to', 'the', 'middle', 'east', 'and', 'back', 'again—', 'the', 'sparkling', 'story', 'of', 'one', 'girl’s', 'childhood,', 'by', 'an', 'exciting', 'new', 'voice', 'in', 'literary', 'fiction', 'in', 'this', 'fresh,', 'funny,', 'and', 'fearless', 'debut', 'novel,', 'randa', 'jarrar', 'chronicles', 'the', 'coming-of-age', 'of', 'nidali,', 'one', 'of', 'the', 'most', 'unique', 'and', 'irrepressible', 'narrators', 'in', 'contemporary', 'fiction.', 'born', 'in', '1970s', 'boston', 'to', 'an', 'egyptian-greek', 'mother', 'and', 'a', 'palestinian', 'father,', 'the', 'rebellious', 'nidali—whose', 'name', 'is', 'a', 'feminization', 'of', 'the', 'word', '“struggle”—soon', 'moves', 'to', 'a', 'very', 'different', 'life', 'in', 'kuwait.', 'there', 'the', 'family', 'leads', 'a', 'mildly', 'eccentric', 'middle-class', 'existence', 'until', 'the', 'iraqi', 'invasion', 'drives', 'them', 'first', 'to', 'egypt', 'and', 'then', 'to', 'texas.', 'this', 'critically', 'acclaimed', 'debut', 'novel', 'is', 'set', 'to', 'capture', 'the', 'hearts', 'of', 'everyone', 'who', 'has', 'ever', 'wondered', 'what', 'their', 'own', 'map', 'of', 'home', 'might', 'look', 'like.', '', 'new', 'travel', 'sized', 'pocket', 'edition!', 'coloring', 'book', 'author', 'charles', 'orlik', 'has', 'outdone', 'himself', 'on', 'this', 'amazing', 'new', 'adult', 'coloring', 'book.', 'it', 'features', '40', 'amazing', '3d', 'tubular', 'design', 'mandalas', 'that', 'have', 'never', 'been', 'done', 'before.', 'you', 'will', 'be', 'in', 'awe', 'of', 'the', 'designs', 'as', 'they', 'pop', 'out', 'right', 'at', 'you', 'off', 'the', 'page', 'as', 'you', 'relax', 'and', 'color.', \"it's\", 'not', 'just', 'stress', 'relief,', 'but', 'an', 'amazing', 'blast', 'of', 'scientific', 'optical', 'illusions.', \"it's\", 'totally', 'tubular!', '', 'are', 'you', 'the', 'one', 'who', 'plays', 'poker', 'for', 'fun?', 'somebody', 'who', 'earns', 'a', 'living', 'out', 'of', 'it?', 'either', 'way,', 'you', 'need', 'the', 'right', 'skill', 'and', 'basic', 'strategies', 'to', 'fully', 'wrap', 'your', 'head', 'around', 'this', 'tricky', 'game.', 'improve', 'your', 'skills', 'and', 'learn', 'how', 'to', 'win', 'big.', '', 'are', 'you', 'stuck', 'playing', 'in', 'lousy', 'cash', 'games', 'versus', 'lousy', 'opponents?', 'despite', 'your', 'best', 'efforts,', 'do', 'you', 'manage', 'to', 'lose', 'even', 'at', 'the', 'smallest', 'stakes?', \"it's\", 'time', 'to', 'master', 'small', 'stakes', 'cash', 'games', 'with', 'a', 'world-class', 'poker', 'champion', 'as', 'your', 'guide.', '', '', 'poker:', 'the', 'best', 'techniques', 'for', 'making', 'you', 'a', 'better', 'player.', 'everything', 'you', 'need', 'to', 'know', 'about', 'poker', 'from', 'beginner', 'to', 'expert', 'is', 'guaranteed', 'to', 'get', 'you', 'to', 'the', 'top!', '', '', \"here's\", 'what', \"you'll\", 'learn', 'further', 'in', 'this', 'book:', '', '-', 'texas', 'hоldеm', 'poker', '-', 'fundаmеntаl', 'facts', '-', 'the', 'basic', 'rules', 'of', 'thе', 'poker', 'gаmе', '-', 'online', 'pоkеr', '-', 'rules', 'for', 'intermediate', 'pоkеr', 'players', '-', 'pоkеr', 'bеtting', 'systems', '-', 'poker', 'tournaments', '-', 'texas', 'hold', 'em', 'poker', 'strаtеgу', '-', 'rulеѕ', 'for', 'suссеѕѕful', 'gаmbling', '', 'so', 'hurry', 'up!', 'scroll', 'up', 'now', 'and', 'order', 'this', 'book!', '', 'transgression', 'and', 'provocation', 'covers', 'the', 'history', 'of', 'industrial', 'music', 'as', 'well', 'as', 'the', 'contemporary', 'incarnations', 'and', 'subgenres.', '', 'to', 'be', 'a', 'long-term', 'winner', 'in', 'games', 'of', 'chance,', 'you', 'need', 'to', 'understand', 'its', 'math.', 'that’s', 'why', 'a', 'winning', 'bet', 'in', 'nevada', 'baccarat', 'can', 'be', 'so', 'helpful.', 'in', 'it,', 'you', 'will', 'find', 'techniques', 'comparable', 'to', 'those', 'that', 'famed', 'investor', 'and', 'blackjack', 'winner', 'extraordinaire', 'edward', 'thorp', 'presents', 'in', 'the', 'revolutionary', 'and', 'bestselling', 'guide', 'to', 'card', 'counting,', 'beat', 'the', 'dealer.', 'drawing', 'off', 'the', 'effective', 'kelly', 'system', 'for', 'betting,', 'thorp', 'and', 'william', 'walden,', 'two', 'leading', 'mathematical', 'experts,', 'developed', 'a', 'system', 'for', 'nevada', 'baccarat', 'with', 'sound', 'mathematics', 'for', 'a', 'simple', 'method', 'to', 'place', 'better', 'bets.', 'a', 'winning', 'bet', 'in', 'nevada', 'baccarat', 'is', 'signature', 'thorp,', 'in', 'that', 'he', 'once', 'again', 'shows', 'his', 'commitment', 'to', 'his', 'academic', 'foundations', 'by', 'publishing', 'his', 'discoveries', 'of', 'mathematical', 'anomalies.', 'while', 'his', 'exploits', 'led', 'casinos', 'to', 'change', 'rules', 'and', 'ban', 'plays,', 'his', 'passion', 'for', 'gambling', 'only', 'grew', 'stronger.', 'both', 'in', 'the', 'stock', 'market', '–', 'where', 'his', 'legendary', 'hedge', 'funds', 'have', 'trounced', 'market', 'returns', 'for', 'decades', '–', 'and', 'in', 'the', 'casino,', 'thorp', 'has', 'turned', 'his', 'mathematical', 'prowess', 'into', 'a', 'practical', 'model', 'to', 'gain', 'a', 'winning', 'edge.', 'accompanied', 'with', 'extensive', 'diagrams,', 'charts,', 'and', 'formulas,', 'a', 'winning', 'bet', 'in', 'nevada', 'baccarat,', 'will', 'show', 'you', 'how', 'to:', '', 'understand', 'the', 'fundamentals', 'of', 'nevada', 'baccarat', 'recognize', 'when', 'the', 'side', 'bet', 'has', 'a', 'positive', 'expectation', 'use', 'ruin', 'probabilities', 'to', 'stay', 'on', 'top', 'in', 'the', 'game', 'determine', 'when', 'to', 'bet', 'on', 'the', 'banker', 'and', 'when', 'to', 'bet', 'on', 'the', 'player', 'calculate', 'when', 'to', 'stop', 'playing', 'to', 'minimize', 'loss', '', 'a', 'winning', 'bet', 'in', 'nevada', 'baccarat', 'is', 'an', 'essential', 'read', 'for', 'players', 'new', 'to', 'nevada', 'baccarat', 'and', 'experienced', 'players', 'who', 'wish', 'to', 'gain', 'a', 'more', 'mathematic', 'understanding', 'of', 'the', 'game.', '', 'examine', 'the', 'rise', 'of', 'american', 'neopaganism', '', 'why', 'is', 'brussels', 'in', '3', 'days', 'the', 'best', 'brussels', 'travel', 'guide', 'for', 'you?', 'if', 'you', 'want', 'a', 'travel', 'guide', 'that’s', 'easy', 'to', 'read,', 'with', 'up-to-date', 'information,', 'look', 'no', 'further.', 'you', 'can', 'follow', 'the', 'rest', 'of', 'the', 'tourists', 'and', 'visit', 'the', 'most', 'famous', 'attractions', 'in', 'brussels,', 'but', 'there', 'are', 'so', 'many', 'popular', 'attractions.', 'we', 'help', 'you', 'sort', 'them', 'out,', 'so', 'you', 'can', 'hit', 'the', 'ones', 'you', 'want', 'in', 'a', 'three-day', 'vacation.', 'we’ll', 'also', 'show', 'you', 'some', 'hidden', 'gems', 'that', 'are', 'a', 'bit', 'off', 'the', 'tourist', 'maps.', 'use', 'this', 'guide', 'to', 'plan', 'your', 'trip.', 'we', 'have', 'highly-rated', '(“very', 'good”', 'or', 'higher)', 'hotels', 'in', 'three', 'price', 'ranges,', 'and', 'we', 'list', 'the', 'closest', 'attractions', 'to', 'each', 'hotel,', 'so', 'you', 'can', 'choose', 'one', 'that', 'will', 'be', 'convenient', 'for', 'you.', 'this', 'guide', 'is', 'perfect', 'if', 'you’ve', 'never', 'before', 'visited', 'the', '“capital', 'of', 'europe”.', 'we', 'give', 'you', 'the', 'information', 'you’ll', 'need', 'to', 'get', 'to', 'town', 'from', 'the', 'airport,', 'and', 'then', 'around', 'town,', 'once', 'you’re', 'there.', 'are', 'you', 'a', 'foodie?', 'even', 'if', 'you’re', 'not,', 'you’ll', 'enjoy', 'perusing', 'our', 'restaurant', 'section,', 'split', 'by', 'price', 'points', 'and', 'offering', 'many', 'types', 'of', 'cuisine.', 'if', 'you', 'only', 'have', 'a', 'few', 'days', 'to', 'spend', 'in', 'brussels,', 'this', 'guide', 'is', 'the', 'perfect', 'choice.', 'plan', 'and', 'enjoy', 'your', 'trip', 'with', 'the', 'best', 'information', 'at', 'your', 'fingertips.', 'here', 'is', 'a', 'quick', 'preview', 'of', 'what', 'you', 'will', 'learn', 'in', 'this', 'tourist', 'guide:', '•', 'helpful', 'information', 'about', 'brussels', '•', 'flying', 'into', 'the', 'city', '•', 'transportation', 'tips', 'in', 'town', '•', 'why', 'brussels', 'is', 'such', 'a', 'vibrant', 'tourist', 'spot', 'and', 'what', 'you', 'will', 'find', 'most', 'remarkable', 'about', 'it', '•', 'information', 'on', 'luxury', 'and', 'budget', 'accommodations', 'and', 'what', 'you’ll', 'get', 'for', 'your', 'money', '•', 'the', 'currency', 'used', 'in', 'brussels', '•', 'tourist', 'attractions', 'you', 'should', 'make', 'time', 'to', 'see', '•', 'other', 'attractions', 'for', 'entertainment', 'and', 'culture', '•', 'events', 'that', 'may', 'be', 'running', 'during', 'your', 'stay', '•', 'tips', 'on', 'the', 'best', 'places', 'to', 'eat', '&', 'drink', 'for', 'all', 'price', 'points,', 'whether', 'you', 'want', 'simple', 'fare,', 'worldwide', 'dishes', 'or', 'belgian', 'flavor', '', 'a', 'trip', 'to', 'bucharest', 'is', 'a', 'step', 'into', 'the', 'past,', 'which', 'can', 'be', 'enjoyed', 'even', 'if', 'you', 'only', 'have', 'a', 'few', 'days', 'to', 'travel', 'there.', 'bucharest', 'in', '3', 'days', 'was', 'purposefully', 'written', 'to', 'help', 'you', 'access', 'the', 'things', 'you', 'want', 'to', 'see,', 'even', 'if', 'you', 'don’t', 'have', 'a', 'lot', 'of', 'time.', 'with', 'her', 'faded,', 'yet', 'grand,', 'buildings', 'and', 'the', 'contrasting', 'communist', 'utilitarian', 'edifices,', 'the', 'city', 'isn’t', 'beautiful', 'in', 'a', 'classical', 'way,', 'but', 'the', 'various', 'forms', 'of', 'architecture', 'make', 'the', 'city', 'even', 'more', 'interesting', 'to', 'visit.', 'in', 'this', 'book,', 'we’ll', 'show', 'you', 'how', 'to', 'get', 'the', 'most', 'from', 'a', 'short', 'stay,', 'including:', '•', 'basic', 'information', 'about', 'bucharest', '•', 'flying', 'into', 'the', 'international', 'airport', 'that', 'serves', 'the', 'city', '•', 'transportation', 'tips', 'in', 'town', '•', 'why', 'bucharest', 'is', 'such', 'an', 'interesting', 'place,', 'and', 'what', 'you', 'will', 'find', 'most', 'charming', 'about', 'it', '•', 'information', 'on', 'accommodations,', 'from', 'luxury', 'to', 'budget', 'levels', '•', 'the', 'currency', 'used', 'in', 'bucharest', '•', 'attractions', 'you', 'should', 'make', 'time', 'to', 'see', '•', 'other', 'attractions', 'related', 'entertainment', 'and', 'culture', '•', 'festivals', 'that', 'may', 'be', 'running', 'during', 'your', 'stay', '•', 'tips', 'on', 'the', 'best', 'places', 'to', 'eat', '&', 'drink', 'for', 'all', 'price', 'points,', 'whether', 'you', 'want', 'simple', 'fare,', 'worldwide', 'dishes', 'or', 'romanian', 'flavor', 'enjoy', 'your', 'stay', 'in', 'bucharest,', 'the', 'misunderstood', 'city,', 'and', 'get', 'the', 'most', 'you', 'can', 'from', 'three', 'days', 'there.', '', 'enter', 'the', 'fast-paced', 'fashion', 'world', 'of', '1982', 'and', 'read', 'about', 'the', 'world', 'of', 'international', 'modeling', 'through', 'the', 'eyes', 'of', 'a', 'boy', 'on', 'the', '\"fast-track\"', 'to', 'becoming', 'one', 'of', 'the', 'top', 'models', 'in', 'the', 'world.', 'd.', \"l.'s\", 'memoir', 'tells', 'all', 'about', 'a', 'world', 'that', 'few', 'have', 'ever', 'entered.', 'this', 'book', 'will', 'challenge', 'all', 'that', 'you', 'have', 'read', 'about', 'this', 'historic', 'time', 'in', \"men's\", 'fashion.', 'daryl', 'had', 'it', 'all;', 'fame,', 'trips', 'to', 'exotic', 'locations,', 'pictures', 'in', 'the', \"world's\", 'best', 'magazines', 'by', 'the', \"world's\", 'most', 'prominent', 'photographers,', 'and', 'then...', '', 'jenelle', 'evans', 'shares', 'the', 'raw', 'emotional', 'stories', 'of', 'her', 'youth', 'that', 'helped', 'shape', 'the', 'woman', 'she', 'has', 'become,', 'all', 'drawn', 'from', 'her', 'childhood', 'diary.from', 'her', 'appearances', 'on\\xa016', 'and', 'pregnant\\xa0and', 'then\\xa0teen', 'mom', '2,', 'jenelle', 'evans’s', 'life', 'was', 'put', 'on', 'display', 'for', 'all', 'to', 'see,', 'and', 'all', 'to', 'judge.', 'everyone', 'thinks', 'they', 'know', 'her,', 'but', 'what', 'the', 'audience', 'can’t', 'see', 'runs', 'deeper', 'than', 'what', 'is', 'left', 'on', 'the', 'editing', 'room', 'floor.', '', 'what', 'of', 'jenelle’s', 'complicated', 'life', 'before', 'her', 'newfound', 'fame?', 'an', 'overbearing', 'mother.', 'erratic', 'siblings.', 'a', 'father', 'who', 'didn’t', 'seem', 'to', 'care.', 'though', 'there', 'was', 'no', 'camera', 'to', 'capture', 'those', 'difficult', 'moments,', 'there', 'were,', 'thankfully,', 'a', 'few', 'well-kept', 'diaries.', 'join', 'jenelle', 'as', 'she', 'tells', 'her', 'story', 'through', 'the', 'eyes', 'of', 'her', 'troubled', 'youth,', 'taken', 'from', 'her', 'memories', 'that', 'were', 'scrawled', 'across', 'the', 'pages', 'of', 'her', 'own', 'diaries.', '', 'carol', 'vordermans', 'how', 'to', 'do', 'sudoku', '', 'the', 'first', 'self-sufficient', '(and', 'therefore,', 'truly', 'autonomous)', 'cars', 'appeared', 'in', 'the', '1980s,', 'with', 'carnegie', 'mellon', \"university's\", 'navlab', 'and', 'alv', 'projects', 'in', '1984', 'and', 'mercedes-benz', 'and', 'bundeswehr', 'university', \"munich's\", 'eureka', 'prometheus', 'project', 'in', '1987.', 'since', 'then,', 'numerous', 'major', 'companies', 'and', 'research', 'organizations', 'have', 'developed', 'working', 'prototype', 'autonomous', 'vehicles.', '', 'true', 'story', 'of', 'caitlyn', 'by', 'jenner’s', 'and', 'kardashians', 'own', 'words', '', 'samantha', 'steele', 'is', 'a', 'young', 'woman', 'in', 'search', 'of', 'a', 'dream.', 'in', 'an', 'effort', 'to', 'escape', 'a', 'dysfunctional', 'life,', 'she', 'flees', 'to', 'los', 'angeles', 'in', 'hopes', 'of', 'becoming', 'an', 'actress.', 'meeting', 'up', 'with', 'her', 'best', 'friend,', 'she', 'has', 'encouragement', 'for', 'a', 'new', 'and', 'exciting', 'life.', 'but', 'what', 'she', 'finds', 'in', 'the', 'city', 'of', 'angels', 'is', 'more', 'than', 'she', 'could', 'have', 'ever', 'imagined', 'when', 'a', 'mistake', 'she', 'unknowingly', 'made', 'in', 'her', 'past', 'comes', 'back', 'to', 'haunt', 'her', 'in', 'a', 'deadly', 'twist', 'of', 'fate.', 'she', 'treads', 'from', 'one', 'tragedy', 'to', 'the', 'next', 'as', 'her', 'career', 'blossoms', 'and', 'flourishes', 'and', 'discovers', 'that', 'love', 'sometimes', 'wears', 'a', 'mask', 'as', 'she', 'desperately', 'tries', 'to', 'pull', 'it', 'off', 'with', 'the', 'wrong', 'man.', '', 'in', 'recent', 'years,', 'the', 'historical', 'jesus', 'has', 'been', 'described', 'as', 'everything', 'from', 'a', '\"jewish', 'cynic\"', 'to', 'a', '\"spirit', 'person\"', 'or', '\"magician,\"', 'to', 'a', 'social', 'revolutionary,', 'deluded', 'prophet,', 'or', 'myth.', 'the', 'gospels', 'have', 'been', 'dismissed', 'by', 'jesus', 'seminar', 'and', 'other', 'critical', 'scholars', 'as', 'legend', 'or', 'theological', 'spin,', 'and', 'christians', 'as', 'fools', 'for', 'believing', 'them.', 'in', 'this', 'fascinating', 'work,', 'scholar', 'david', 'marshall', '(whose', 'writings', 'have', 'been', 'compared', 'to', 'c.', 's.', 'lewis', 'and', 'g.', 'k.', 'chesterton)', 'shows', 'why', 'the', 'skeptics', 'are', 'wrong,', 'and', 'the', 'gospels', 'right.', 'marshall', 'describes', 'a', 'dozen', 'critical', 'errors', 'jesus', 'skeptics', 'commit.', 'he', 'then', 'analyzes', 'fifty', 'traits', 'that', 'make', 'the', 'gospels', 'unique', 'and', 'persuasive.', 'finally,', 'drawing', 'on', 'his', 'study', 'of', 'asian', 'religions', 'and', 'literature,', 'he', 'surveys', 'ancient', 'myth,', 'biography,', 'and', 'romance,', 'and', 'shows', 'there', 'is', 'nothing', 'quite', 'like', 'the', 'new', 'testament', 'writings', 'in', 'all', 'the', 'world.']\n",
      "\n",
      "\n",
      " tokenized and lemmatizeddocument: \n",
      "['extraordinari', 'debut', 'novel', 'dark', 'fast', 'pace', 'thrill', 'contemporari', 'nineteenth', 'centuri', 'europ', 'unit', 'state', 'scotland', 'involv', 'true', 'inventor', 'move', 'pictur', 'lose', 'film', 'edinburgh', 'shock', 'seri', 'crime', 'terror', 'citi', 'present', 'time', 'time', 'citi', 'angel', 'alex', 'whitman', 'movi', 'memorabilia', 'dealer', 'hire', 'eccentr', 'film', 'collector', 'locat', 'film', 'séanc', 'infernal', 'creator', 'augustin', 'sekul', 'consid', 'know', 'movi', 'true', 'inventor', 'motion', 'pictur', 'lumiér', 'brother', 'thoma', 'edison', 'sekul', 'present', 'world', 'greatest', 'invent', 'kind', 'move', 'pictur', 'machin', 'board', 'train', 'head', 'dijon', 'pari', 'arriv', 'gare', 'lyon', 'station', 'move', 'pictur', 'machin', 'vanish', 'hear', 'claim', 'histori', 'inventor', 'move', 'imag', 'vanish', 'whitman', 'track', 'fragment', 'sekul', 'famous', 'lose', 'film', 'question', 'rais', 'sekul', 'happen', 'invent', 'film', 'rivet', 'stori', 'suspens', 'search', 'answer', 'lead', 'curious', 'riddl', 'shed', 'light', 'sekul', 'darkest', 'secret', 'lock', 'away', 'centuri', 'riddl', 'motion', 'frantic', 'hunt', 'take', 'whitman', 'angel', 'pari', 'geneva', 'final', 'sekul', 'ancient', 'labyrinthin', 'citi', 'edinburgh', 'stake', 'ratchet', 'film', 'riddl', 'lead', 'darker', 'danger', 'mysteri', 'woman', 'misguid', 'quest', 'love', 'airtim', 'possibl', 'howard', 'stern', 'radio', 'person', 'lisa', 'glasberg', 'lisa', 'paint', 'violin', 'play', 'cooki', 'bake', 'ladi', 'chang', 'alleg', 'wallflow', 'skill', 'kitchen', 'suitor', 'doorstep', 'wear', 'coat', 'carri', 'plate', 'fresh', 'bake', 'cooki', 'unrat', 'memoir', 'lisa', 'reveal', 'adventur', 'misadventur', 'grow', 'look', 'love', 'wrong', 'place', 'journey', 'begin', 'place', 'felt', 'comfort', 'microphon', 'lisa', 'workahol', 'larger', 'life', 'radio', 'person', 'light', 'switch', 'struggl', 'true', 'self', 'therapi', 'soul', 'search', 'transform', 'insecur', 'young', 'woman', 'attempt', 'culinari', 'prowess', 'independ', 'adult', 'final', 'learn', 'love', 'lisa', 'stori', 'inspir', 'lot', 'laugh', 'smart', 'sassi', 'stack', 'lisa', 'career', 'search', 'perfect', 'aspir', 'radio', 'star', 'date', 'urban', 'bachelorett', 'predict', 'galleri', 'potenti', 'mat', 'lie', 'cooki', 'lisa', 'detail', 'hilari', 'sexcapad', 'includ', 'nice', 'jewish', 'doctor', 'uniqu', 'fetish', 'classic', 'unavail', 'type', 'want', 'open', 'relationship', 'lisa', 'share', 'scene', 'stori', 'list', 'celebr', 'interview', 'friendship', 'time', 'hang', 'royalti', 'like', 'diddi', 'smith', 'flavor', 'flav', 'lisa', 'know', 'have', 'hottest', 'ticket', 'town', 'entri', 'exclus', 'legendari', 'cooki', 'parti', 'book', 'includ', 'recip', 'lisa', 'famous', 'dessert', 'like', 'lose', 'cherri', 'cooki', 'doubl', 'licious', 'oatmeal', 'cooki', 'tip', 'host', 'fabul', 'cooki', 'parti', 'lie', 'cooki', 'tasti', 'read', 'prove', 'satisfi', 'relationship', 'start', 'learn', 'love', 'littl', 'cooki', 'dough', 'help', 'thoma', 'kuhn', 'structur', 'scientif', 'revolut', 'watersh', 'event', 'publish', 'upend', 'previous', 'understand', 'scienc', 'slow', 'logic', 'accumul', 'fact', 'introduc', 'concept', 'paradigm', 'shift', 'social', 'psycholog', 'consider', 'heart', 'scientif', 'process', 'fifti', 'year', 'public', 'kuhn', 'work', 'continu', 'influenc', 'thinker', 'wide', 'rang', 'field', 'includ', 'scientist', 'historian', 'sociologist', 'clear', 'structur', 'scientif', 'revolut', 'mark', 'paradigm', 'shift', 'describ', 'kuhn', 'structur', 'scientif', 'revolut', 'fifti', 'lead', 'social', 'scientist', 'philosoph', 'explor', 'origin', 'kuhn', 'masterwork', 'legaci', 'fifti', 'year', 'essay', 'exhum', 'import', 'histor', 'context', 'kuhn', 'work', 'critic', 'analyz', 'foundat', 'twentieth', 'centuri', 'scienc', 'polit', 'kuhn', 'intellectu', 'biographi', 'experi', 'physic', 'graduat', 'student', 'close', 'relationship', 'psychologist', 'public', 'structur', 'cold', 'framework', 'term', 'world', 'view', 'paradigm', 'princeton', 'caus', 'stir', 'controversi', 'letter', 'daili', 'princetonian', 'offer', 'advic', 'young', 'women', 'princeton', 'marri', 'earli', 'deliv', 'unvarnish', 'truth', 'smart', 'straightforward', 'witti', 'book', 'life', 'lesson', 'singl', 'know', 'want', 'life', 'dream', 'includ', 'get', 'marri', 'have', 'children', 'fresh', 'approach', 'find', 'right', 'right', 'time', 'show', 'dream', 'realiti', 'graduat', 'class', 'women', 'princeton', 'univers', 'susan', 'patton', 'hear', 'smart', 'young', 'women', 'admit', 'aspir', 'marriag', 'motherhood', 'model', 'pursu', 'goal', 'reflect', 'choic', 'earli', 'twenti', 'bold', 'turn', 'tabl', 'career', 'condit', 'suggest', 'seek', 'golden', 'opportun', 'right', 'right', 'marri', 'smart', 'share', 'wisdom', 'experi', 'warmth', 'humor', 'straight', 'talk', 'mother', 'date', 'guid', 'marri', 'smart', 'celebr', 'vital', 'achiev', 'tradit', 'marriag', 'motherhood', 'give', 'essenti', 'life', 'strategi', 'talk', 'includ', 'strike', 'greatest', 'number', 'singl', 'young', 'avail', 'attract', 'intellectu', 'emot', 'equal', 'date', 'mate', 'spot', 'diamond', 'rough', 'total', 'satisfact', 'role', 'wife', 'mother', 'colleg', 'futur', 'plan', 'clear', 'undecid', 'marri', 'smart', 'read', 'young', 'women', 'want', 'love', 'life', 'book', 'contain', 'color', 'photo', 'point', 'locat', 'limit', 'list', 'indic', 'author', 'creat', 'easier', 'reader', 'correct', 'locat', 'tung', 'point', 'point', 'identifi', 'individu', 'relat', 'addit', 'tung', 'point', 'draw', 'heavili', 'candid', 'interview', 'conduct', 'cadet', 'trainer', 'gamecock', 'battalion', 'univers', 'south', 'carolina', 'armi', 'trace', 'experi', 'repres', 'student', 'freshmen', 'senior', 'sex', 'race', 'essenti', 'minor', 'militari', 'pursu', 'regular', 'undergradu', 'degre', 'divers', 'field', 'invit', 'wit', 'quagmir', 'confus', 'nighttim', 'train', 'exercis', 'immers', 'procedur', 'jargon', 'classroom', 'high', 'aspir', 'candid', 'airborn', 'school', 'replet', 'vivid', 'account', 'annual', 'ranger', 'challeng', 'varsiti', 'sport', 'rotc', 'campus', 'visit', 'command', 'chief', 'georg', 'bush', 'narrat', 'follow', 'unit', 'exercis', 'experi', 'design', 'recast', 'cadet', 'junior', 'offic', 'america', 'long', 'terror', 'gun', 'march', 'volum', 'explor', 'rivalri', 'revelri', 'defin', 'cadet', 'hour', 'character', 'live', 'colleg', 'student', 'jenell', 'evan', 'share', 'emot', 'stori', 'youth', 'help', 'shape', 'woman', 'draw', 'childhood', 'diari', 'appear', 'pregnant', 'teen', 'jenell', 'evan', 'life', 'display', 'judg', 'think', 'know', 'audienc', 'run', 'deeper', 'leav', 'edit', 'room', 'floor', 'jenell', 'complic', 'life', 'newfound', 'fame', 'overbear', 'mother', 'errat', 'sibl', 'father', 'care', 'camera', 'captur', 'difficult', 'moment', 'thank', 'keep', 'diari', 'join', 'jenell', 'tell', 'stori', 'eye', 'troubl', 'youth', 'take', 'memori', 'scrawl', 'page', 'diari', 'report', 'news', 'star', 'michell', 'field', 'revel', 'corrupt', 'wast', 'american', 'polit', 'begin', 'elect', 'politician', 'countri', 'extort', 'valu', 'person', 'gain', 'found', 'father', 'reject', 'notion', 'royalti', 'fight', 'extravag', 'pomp', 'circumst', 'today', 'washington', 'member', 'unit', 'state', 'govern', 'enjoy', 'lifestyl', 'perk', 'mari', 'antoinett', 'envious', 'public', 'servant', 'chauffeur', 'capitol', 'hill', 'offic', 'town', 'car', 'live', 'block', 'away', 'enjoy', 'taxpay', 'subsid', 'senat', 'hair', 'care', 'servic', 'vacat', 'famili', 'exot', 'locat', 'free', 'exempt', 'friend', 'law', 'creat', 'baron', 'beltway', 'news', 'contributor', 'michell', 'field', 'expos', 'hide', 'perk', 'freebi', 'stroke', 'defin', 'life', 'polit', 'class', 'touch', 'lunch', 'spotlight', 'figur', 'congresswoman', 'nanci', 'pelosi', 'senat', 'minor', 'leader', 'harri', 'reid', 'vice', 'presid', 'biden', 'continu', 'abus', 'power', 'build', 'person', 'fortun', 'climb', 'washington', 'ladder', 'found', 'father', 'start', 'revolut', 'break', 'away', 'monarchi', 'clear', 'america', 'begin', 'baron', 'beltway', 'reveal', 'overthrow', 'polit', 'class', 'order', 'return', 'principl', 'found', 'father', 'origin', 'envis', 'america', 'countri', 'greater', 'opportun', 'pass', 'generat', 'time', 'record', 'straight', 'steven', 'averi', 'netflix', 'seri', 'make', 'murder', 'runaway', 'million', 'viewer', 'day', 'seri', 'leav', 'opinion', 'steven', 'averi', 'fals', 'imprison', 'year', 'previous', 'unrel', 'assault', 'charg', 'frame', 'corrupt', 'polic', 'forc', 'district', 'attorney', 'offic', 'murder', 'young', 'photograph', 'viewer', 'outrag', 'hundr', 'thousand', 'demand', 'pardon', 'averi', 'chief', 'villain', 'seri', 'kratz', 'special', 'prosecutor', 'head', 'investig', 'trial', 'kratz', 'later', 'misde', 'prescript', 'drug', 'abus', 'sexual', 'harass', 'cement', 'belief', 'corrupt', 'book', 'tell', 'make', 'murder', 'indign', 'injustic', 'imprison', 'make', 'tempt', 'believ', 'innoc', 'averi', 'case', 'steven', 'averi', 'make', 'murder', 'get', 'wrong', 'evid', 'share', 'insid', 'examin', 'thorough', 'dispassion', 'prove', 'case', 'crimin', 'justic', 'work', 'averi', 'kratz', 'put', 'doubt', 'steven', 'averi', 'guilt', 'rest', 'exclu', 'sive', 'insid', 'look', 'controversi', 'case', 'kratz', 'let', 'evid', 'tell', 'stori', 'share', 'detail', 'insight', 'unknown', 'public', 'reveal', 'fact', 'make', 'murder', 'conveni', 'leav', 'candid', 'address', 'aftermath', 'open', 'discuss', 'time', 'struggl', 'addict', 'lose', 'averi', 'systemat', 'eras', 'uncertainti', 'introduc', 'netflix', 'seri', 'confirm', 'steven', 'averi', 'guilti', 'murder', 'teresa', 'halbach', 'celebr', 'quirki', 'surpris', 'spectacular', 'work', 'dutch', 'fashion', 'design', 'viktor', 'rolfconceiv', 'design', 'acclaim', 'graphic', 'design', 'irma', 'boom', 'book', 'bring', 'life', 'legendari', 'conceptu', 'creation', 'dutch', 'viktor', 'rolf', 'entir', 'cover', 'relat', 'specif', 'imag', 'sketch', 'quot', 'showcas', 'particular', 'collect', 'elev', 'bookmak', 'entir', 'level', 'refer', 'dramat', 'layer', 'featur', 'design', 'work', 'explor', 'viktor', 'rolf', 'signatur', 'stun', 'style', 'book', 'ultim', 'homag', 'spectacl', 'fashion', 'publish', 'coincid', 'thirtieth', 'anniversari', 'superbik', 'world', 'championship', 'world', 'accord', 'foggi', 'delight', 'legion', 'motor', 'sport', 'fan', 'lap', 'enjoy', 'book', 'valentino', 'rossi', 'martin', 'michael', 'dunlop', 'john', 'mcguin', 'hutchinson', 'freddi', 'spencer', 'throttl', 'roar', 'white', 'knuckl', 'pillion', 'ride', 'motorcycl', 'race', 'icon', 'carl', 'fogarti', 'nation', 'take', 'heart', 'king', 'jungl', 'seri', 'celebr', 'world', 'accord', 'foggi', 'pack', 'hilari', 'tale', 'insid', 'outsid', 'sport', 'racer', 'past', 'present', 'includ', 'valentino', 'rossi', 'marc', 'marquez', 'steve', 'hislop', 'martin', 'come', 'foggi', 'scrutini', 'dip', 'memori', 'bank', 'reliv', 'special', 'moment', 'career', 'world', 'superbik', 'spiritu', 'home', 'isl', 'talk', 'candid', 'time', 'ventur', 'team', 'ownership', 'inner', 'demon', 'carl', 'lift', 'madcap', 'mat', 'daft', 'antic', 'share', 'quirki', 'wisdom', 'topic', 'divers', 'cricket', 'hiker', 'news', 'faint', 'goat', 'traffic', 'light', 'english', 'breakfast', 'train', 'ultim', 'world', 'accord', 'foggi', 'reveal', 'real', 'visor', 'cheeki', 'witti', 'earth', 'slight', 'bonker', 'april', 'simonson', 'hat', 'cruel', 'sin', 'beast', 'disfigur', 'face', 'proof', 'jerek', 'brinkley', 'rever', 'sultana', 'explod', 'april', 'fall', 'dark', 'muddi', 'water', 'mississippi', 'river', 'terrifi', 'light', 'handsom', 'riverboat', 'gambler', 'jerek', 'brinkley', 'fight', 'hell', 'high', 'water', 'save', 'northern', 'vixen', 'whoâ', 'heart', 'card', 'trick', 'fear', 'allan', 'pinkerton', 'arriv', 'memphi', 'reveal', 'secret', 'readi', 'know', 'base', 'histori', 'greatest', 'maritim', 'disast', 'april', 'rememb', 'sprinkl', 'real', 'fact', 'event', 'reviv', 'sultana', 'civil', 'riverboat', 'death', 'toll', 'surpass', 'titan', 'offer', 'twist', 'happen', 'fate', 'night', 'electron', 'bodi', 'music', 'music', 'genr', 'combin', 'element', 'post', 'industri', 'music', 'synthpunk', 'america', 'middl', 'east', 'sparkl', 'stori', 'girl', 'childhood', 'excit', 'voic', 'literari', 'fiction', 'fresh', 'funni', 'fearless', 'debut', 'novel', 'randa', 'jarrar', 'chronicl', 'come', 'nidali', 'uniqu', 'irrepress', 'narrat', 'contemporari', 'fiction', 'bear', 'boston', 'egyptian', 'greek', 'mother', 'palestinian', 'father', 'rebelli', 'nidali', 'femin', 'word', 'struggl', 'soon', 'move', 'differ', 'life', 'kuwait', 'famili', 'lead', 'mild', 'eccentr', 'middl', 'class', 'exist', 'iraqi', 'invas', 'drive', 'egypt', 'texa', 'critic', 'acclaim', 'debut', 'novel', 'captur', 'heart', 'wonder', 'home', 'look', 'like', 'travel', 'size', 'pocket', 'edit', 'color', 'book', 'author', 'charl', 'orlik', 'outdo', 'amaz', 'adult', 'color', 'book', 'featur', 'amaz', 'tubular', 'design', 'mandala', 'design', 'right', 'page', 'relax', 'color', 'stress', 'relief', 'amaz', 'blast', 'scientif', 'optic', 'illus', 'total', 'tubular', 'play', 'poker', 'somebodi', 'earn', 'live', 'need', 'right', 'skill', 'basic', 'strategi', 'fulli', 'wrap', 'head', 'tricki', 'game', 'improv', 'skill', 'learn', 'stick', 'play', 'lousi', 'cash', 'game', 'versus', 'lousi', 'oppon', 'despit', 'best', 'effort', 'manag', 'lose', 'smallest', 'stake', 'time', 'master', 'small', 'stake', 'cash', 'game', 'world', 'class', 'poker', 'champion', 'guid', 'poker', 'best', 'techniqu', 'make', 'better', 'player', 'need', 'know', 'poker', 'beginn', 'expert', 'guarante', 'learn', 'book', 'texa', 'hоldеm', 'poker', 'fundаmеntаl', 'fact', 'basic', 'rule', 'poker', 'gаmе', 'onlin', 'pоkеr', 'rule', 'intermedi', 'pоkеr', 'player', 'pоkеr', 'bеtting', 'system', 'poker', 'tournament', 'texa', 'hold', 'poker', 'strаtеgу', 'rulеѕ', 'suссеѕѕ', 'gаmbling', 'hurri', 'scroll', 'order', 'book', 'transgress', 'provoc', 'cover', 'histori', 'industri', 'music', 'contemporari', 'incarn', 'subgenr', 'long', 'term', 'winner', 'game', 'chanc', 'need', 'understand', 'math', 'win', 'nevada', 'baccarat', 'help', 'techniqu', 'compar', 'fame', 'investor', 'blackjack', 'winner', 'extraordinair', 'edward', 'thorp', 'present', 'revolutionari', 'bestsel', 'guid', 'card', 'count', 'beat', 'dealer', 'draw', 'effect', 'kelli', 'bet', 'thorp', 'william', 'walden', 'lead', 'mathemat', 'expert', 'develop', 'nevada', 'baccarat', 'sound', 'mathemat', 'simpl', 'method', 'place', 'better', 'bet', 'win', 'nevada', 'baccarat', 'signatur', 'thorp', 'show', 'commit', 'academ', 'foundat', 'publish', 'discoveri', 'mathemat', 'anomali', 'exploit', 'casino', 'chang', 'rule', 'play', 'passion', 'gambl', 'grow', 'stronger', 'stock', 'market', 'legendari', 'hedg', 'fund', 'trounc', 'market', 'return', 'decad', 'casino', 'thorp', 'turn', 'mathemat', 'prowess', 'practic', 'model', 'gain', 'win', 'edg', 'accompani', 'extens', 'diagram', 'chart', 'formula', 'win', 'nevada', 'baccarat', 'understand', 'fundament', 'nevada', 'baccarat', 'recogn', 'posit', 'expect', 'ruin', 'probabl', 'stay', 'game', 'determin', 'banker', 'player', 'calcul', 'stop', 'play', 'minim', 'loss', 'win', 'nevada', 'baccarat', 'essenti', 'read', 'player', 'nevada', 'baccarat', 'experi', 'player', 'wish', 'gain', 'mathemat', 'understand', 'game', 'examin', 'rise', 'american', 'neopagan', 'brussel', 'day', 'best', 'brussel', 'travel', 'guid', 'want', 'travel', 'guid', 'easi', 'read', 'date', 'inform', 'look', 'follow', 'rest', 'tourist', 'visit', 'famous', 'attract', 'brussel', 'popular', 'attract', 'help', 'sort', 'one', 'want', 'vacat', 'hide', 'gem', 'tourist', 'map', 'guid', 'plan', 'trip', 'high', 'rat', 'good', 'higher', 'hotel', 'price', 'rang', 'list', 'closest', 'attract', 'hotel', 'choos', 'conveni', 'guid', 'perfect', 'visit', 'capit', 'europ', 'inform', 'need', 'town', 'airport', 'town', 'foodi', 'enjoy', 'perus', 'restaur', 'section', 'split', 'price', 'point', 'offer', 'type', 'cuisin', 'day', 'spend', 'brussel', 'guid', 'perfect', 'choic', 'plan', 'enjoy', 'trip', 'best', 'inform', 'fingertip', 'quick', 'preview', 'learn', 'tourist', 'guid', 'help', 'inform', 'brussel', 'fli', 'citi', 'transport', 'tip', 'town', 'brussel', 'vibrant', 'tourist', 'spot', 'remark', 'inform', 'luxuri', 'budget', 'accommod', 'money', 'currenc', 'brussel', 'tourist', 'attract', 'time', 'attract', 'entertain', 'cultur', 'event', 'run', 'stay', 'tip', 'best', 'place', 'drink', 'price', 'point', 'want', 'simpl', 'fare', 'worldwid', 'dish', 'belgian', 'flavor', 'trip', 'bucharest', 'step', 'past', 'enjoy', 'day', 'travel', 'bucharest', 'day', 'purpos', 'write', 'help', 'access', 'thing', 'want', 'time', 'fade', 'grand', 'build', 'contrast', 'communist', 'utilitarian', 'edific', 'citi', 'beauti', 'classic', 'form', 'architectur', 'citi', 'interest', 'visit', 'book', 'short', 'stay', 'includ', 'basic', 'inform', 'bucharest', 'fli', 'intern', 'airport', 'serv', 'citi', 'transport', 'tip', 'town', 'bucharest', 'interest', 'place', 'charm', 'inform', 'accommod', 'luxuri', 'budget', 'level', 'currenc', 'bucharest', 'attract', 'time', 'attract', 'relat', 'entertain', 'cultur', 'festiv', 'run', 'stay', 'tip', 'best', 'place', 'drink', 'price', 'point', 'want', 'simpl', 'fare', 'worldwid', 'dish', 'romanian', 'flavor', 'enjoy', 'stay', 'bucharest', 'misunderstand', 'citi', 'day', 'enter', 'fast', 'pace', 'fashion', 'world', 'read', 'world', 'intern', 'model', 'eye', 'fast', 'track', 'model', 'world', 'memoir', 'tell', 'world', 'enter', 'book', 'challeng', 'read', 'histor', 'time', 'fashion', 'daryl', 'fame', 'trip', 'exot', 'locat', 'pictur', 'world', 'best', 'magazin', 'world', 'promin', 'photograph', 'jenell', 'evan', 'share', 'emot', 'stori', 'youth', 'help', 'shape', 'woman', 'draw', 'childhood', 'diari', 'appear', 'pregnant', 'teen', 'jenell', 'evan', 'life', 'display', 'judg', 'think', 'know', 'audienc', 'run', 'deeper', 'leav', 'edit', 'room', 'floor', 'jenell', 'complic', 'life', 'newfound', 'fame', 'overbear', 'mother', 'errat', 'sibl', 'father', 'care', 'camera', 'captur', 'difficult', 'moment', 'thank', 'keep', 'diari', 'join', 'jenell', 'tell', 'stori', 'eye', 'troubl', 'youth', 'take', 'memori', 'scrawl', 'page', 'diari', 'carol', 'vorderman', 'sudoku', 'self', 'suffici', 'truli', 'autonom', 'car', 'appear', 'carnegi', 'mellon', 'univers', 'navlab', 'project', 'merced', 'benz', 'bundeswehr', 'univers', 'munich', 'eureka', 'prometheus', 'project', 'numer', 'major', 'compani', 'research', 'organ', 'develop', 'work', 'prototyp', 'autonom', 'vehicl', 'true', 'stori', 'caitlyn', 'jenner', 'kardashian', 'word', 'samantha', 'steel', 'young', 'woman', 'search', 'dream', 'effort', 'escap', 'dysfunct', 'life', 'flee', 'angel', 'hop', 'actress', 'meet', 'best', 'friend', 'encourag', 'excit', 'life', 'find', 'citi', 'angel', 'imagin', 'mistak', 'unknow', 'past', 'come', 'haunt', 'dead', 'twist', 'fate', 'tread', 'tragedi', 'career', 'blossom', 'flourish', 'discov', 'love', 'wear', 'mask', 'desper', 'tri', 'pull', 'wrong', 'recent', 'year', 'histor', 'jesus', 'describ', 'jewish', 'cynic', 'spirit', 'person', 'magician', 'social', 'revolutionari', 'delud', 'prophet', 'myth', 'gospel', 'dismiss', 'jesus', 'seminar', 'critic', 'scholar', 'legend', 'theolog', 'spin', 'christian', 'fool', 'believ', 'fascin', 'work', 'scholar', 'david', 'marshal', 'write', 'compar', 'lewi', 'chesterton', 'show', 'skeptic', 'wrong', 'gospel', 'right', 'marshal', 'describ', 'dozen', 'critic', 'error', 'jesus', 'skeptic', 'commit', 'analyz', 'fifti', 'trait', 'gospel', 'uniqu', 'persuas', 'final', 'draw', 'studi', 'asian', 'religion', 'literatur', 'survey', 'ancient', 'myth', 'biographi', 'romanc', 'show', 'like', 'testament', 'write', 'world']\n"
     ]
    },
    {
     "name": "stdout",
     "output_type": "stream",
     "text": [
      "original document: \n"
     ]
    },
    {
     "ename": "IndexError",
     "evalue": "list index out of range",
     "output_type": "error",
     "traceback": [
      "\u001b[0;31m---------------------------------------------------------------------------\u001b[0m",
      "\u001b[0;31mIndexError\u001b[0m                                Traceback (most recent call last)",
      "\u001b[0;32m<ipython-input-174-b65b4ed52d1b>\u001b[0m in \u001b[0;36m<module>\u001b[0;34m()\u001b[0m\n\u001b[1;32m     12\u001b[0m     \u001b[0mprint\u001b[0m\u001b[0;34m(\u001b[0m\u001b[0;34m'original document: '\u001b[0m\u001b[0;34m)\u001b[0m\u001b[0;34m\u001b[0m\u001b[0m\n\u001b[1;32m     13\u001b[0m     \u001b[0mwords\u001b[0m \u001b[0;34m=\u001b[0m \u001b[0;34m[\u001b[0m\u001b[0;34m]\u001b[0m\u001b[0;34m\u001b[0m\u001b[0m\n\u001b[0;32m---> 14\u001b[0;31m     \u001b[0;32mfor\u001b[0m \u001b[0mword\u001b[0m \u001b[0;32min\u001b[0m \u001b[0mdoc_sample\u001b[0m\u001b[0;34m[\u001b[0m\u001b[0mi\u001b[0m\u001b[0;34m]\u001b[0m\u001b[0;34m.\u001b[0m\u001b[0msplit\u001b[0m\u001b[0;34m(\u001b[0m\u001b[0;34m' '\u001b[0m\u001b[0;34m)\u001b[0m\u001b[0;34m:\u001b[0m\u001b[0;34m\u001b[0m\u001b[0m\n\u001b[0m\u001b[1;32m     15\u001b[0m         \u001b[0mwords\u001b[0m\u001b[0;34m.\u001b[0m\u001b[0mappend\u001b[0m\u001b[0;34m(\u001b[0m\u001b[0mword\u001b[0m\u001b[0;34m)\u001b[0m\u001b[0;34m\u001b[0m\u001b[0m\n\u001b[1;32m     16\u001b[0m     \u001b[0mprint\u001b[0m\u001b[0;34m(\u001b[0m\u001b[0mwords\u001b[0m\u001b[0;34m)\u001b[0m\u001b[0;34m\u001b[0m\u001b[0m\n",
      "\u001b[0;31mIndexError\u001b[0m: list index out of range"
     ]
    }
   ],
   "source": [
    "for i in sorted(df['Category'].unique()):\n",
    "    temp=df[df['Category']==i]\n",
    "    rating_list=list()\n",
    "    rating_description=list()\n",
    "    doc_sample=list()\n",
    "    text=aggregate_text(temp)\n",
    "    text=remove_words(text)\n",
    "    text=remove_short_words(text)\n",
    "    rating_list.append(i)\n",
    "    rating_description.append(text)\n",
    "    doc_sample = rating_description\n",
    "    print('original document: ')\n",
    "    words = []\n",
    "    for word in doc_sample[i].split(' '):\n",
    "        words.append(word)\n",
    "    print(words)\n",
    "    print('\\n\\n tokenized and lemmatizeddocument: ')\n",
    "    print(preprocess(doc_sample[i]))\n",
    "    processed_docs = preprocess(rating_description[i])\n",
    "    \n",
    "dictionary = gensim.corpora.Dictionary(processed_docs)\n",
    "count = 0\n",
    "for k, v in dictionary.iteritems():\n",
    "    print(k, v)\n",
    "    count += 1\n",
    "    if count > 10:\n",
    "        break\n",
    "            \n",
    "'''    dictionary.filter_extremes(no_below=15, no_above=0.5, keep_n=100000)\n",
    "    bow_corpus = [dictionary.doc2bow(doc) for doc in processed_docs]\n",
    "'''"
   ]
  },
  {
   "cell_type": "code",
   "execution_count": 156,
   "metadata": {},
   "outputs": [
    {
     "name": "stdout",
     "output_type": "stream",
     "text": [
      "[nltk_data] Downloading package wordnet to\n",
      "[nltk_data]     /Users/sanjayshah/nltk_data...\n",
      "[nltk_data]   Package wordnet is already up-to-date!\n"
     ]
    },
    {
     "data": {
      "text/plain": [
       "True"
      ]
     },
     "execution_count": 156,
     "metadata": {},
     "output_type": "execute_result"
    }
   ],
   "source": [
    "import gensim\n",
    "from gensim.utils import simple_preprocess\n",
    "from gensim.parsing.preprocessing import STOPWORDS\n",
    "from nltk.stem import WordNetLemmatizer, SnowballStemmer\n",
    "from nltk.stem.porter import *\n",
    "import numpy as np\n",
    "np.random.seed(2018)\n",
    "import nltk\n",
    "nltk.download('wordnet')"
   ]
  },
  {
   "cell_type": "code",
   "execution_count": 157,
   "metadata": {},
   "outputs": [],
   "source": [
    "stemmer = SnowballStemmer('english')\n",
    "def lemmatize_stemming(text):\n",
    "    return stemmer.stem(WordNetLemmatizer().lemmatize(text, pos='v'))\n",
    "def preprocess(text):\n",
    "    result = []\n",
    "    for token in gensim.utils.simple_preprocess(text):\n",
    "        if token not in gensim.parsing.preprocessing.STOPWORDS and len(token) > 3:\n",
    "            result.append(lemmatize_stemming(token))\n",
    "    return result"
   ]
  },
  {
   "cell_type": "code",
   "execution_count": null,
   "metadata": {
    "scrolled": false
   },
   "outputs": [],
   "source": [
    " "
   ]
  },
  {
   "cell_type": "code",
   "execution_count": null,
   "metadata": {},
   "outputs": [],
   "source": []
  },
  {
   "cell_type": "code",
   "execution_count": null,
   "metadata": {},
   "outputs": [],
   "source": []
  },
  {
   "cell_type": "code",
   "execution_count": 134,
   "metadata": {},
   "outputs": [
    {
     "ename": "TypeError",
     "evalue": "doc2bow expects an array of unicode tokens on input, not a single string",
     "output_type": "error",
     "traceback": [
      "\u001b[0;31m---------------------------------------------------------------------------\u001b[0m",
      "\u001b[0;31mTypeError\u001b[0m                                 Traceback (most recent call last)",
      "\u001b[0;32m<ipython-input-134-07ee49a1834f>\u001b[0m in \u001b[0;36m<module>\u001b[0;34m()\u001b[0m\n\u001b[0;32m----> 1\u001b[0;31m \u001b[0mbow_corpus\u001b[0m \u001b[0;34m=\u001b[0m \u001b[0;34m[\u001b[0m\u001b[0mdictionary\u001b[0m\u001b[0;34m.\u001b[0m\u001b[0mdoc2bow\u001b[0m\u001b[0;34m(\u001b[0m\u001b[0mdoc\u001b[0m\u001b[0;34m)\u001b[0m \u001b[0;32mfor\u001b[0m \u001b[0mdoc\u001b[0m \u001b[0;32min\u001b[0m \u001b[0mprocessed_docs\u001b[0m\u001b[0;34m]\u001b[0m\u001b[0;34m\u001b[0m\u001b[0m\n\u001b[0m\u001b[1;32m      2\u001b[0m \u001b[0;34m\u001b[0m\u001b[0m\n\u001b[1;32m      3\u001b[0m \u001b[0;31m#from gensim import corpora\u001b[0m\u001b[0;34m\u001b[0m\u001b[0;34m\u001b[0m\u001b[0m\n\u001b[1;32m      4\u001b[0m \u001b[0;31m#dictionary = corpora.Dictionary(processed_docs)\u001b[0m\u001b[0;34m\u001b[0m\u001b[0;34m\u001b[0m\u001b[0m\n\u001b[1;32m      5\u001b[0m \u001b[0;31m#corpusdictionary= [dictionary.doc2bow(text) for text in processed_docs]\u001b[0m\u001b[0;34m\u001b[0m\u001b[0;34m\u001b[0m\u001b[0m\n",
      "\u001b[0;32m<ipython-input-134-07ee49a1834f>\u001b[0m in \u001b[0;36m<listcomp>\u001b[0;34m(.0)\u001b[0m\n\u001b[0;32m----> 1\u001b[0;31m \u001b[0mbow_corpus\u001b[0m \u001b[0;34m=\u001b[0m \u001b[0;34m[\u001b[0m\u001b[0mdictionary\u001b[0m\u001b[0;34m.\u001b[0m\u001b[0mdoc2bow\u001b[0m\u001b[0;34m(\u001b[0m\u001b[0mdoc\u001b[0m\u001b[0;34m)\u001b[0m \u001b[0;32mfor\u001b[0m \u001b[0mdoc\u001b[0m \u001b[0;32min\u001b[0m \u001b[0mprocessed_docs\u001b[0m\u001b[0;34m]\u001b[0m\u001b[0;34m\u001b[0m\u001b[0m\n\u001b[0m\u001b[1;32m      2\u001b[0m \u001b[0;34m\u001b[0m\u001b[0m\n\u001b[1;32m      3\u001b[0m \u001b[0;31m#from gensim import corpora\u001b[0m\u001b[0;34m\u001b[0m\u001b[0;34m\u001b[0m\u001b[0m\n\u001b[1;32m      4\u001b[0m \u001b[0;31m#dictionary = corpora.Dictionary(processed_docs)\u001b[0m\u001b[0;34m\u001b[0m\u001b[0;34m\u001b[0m\u001b[0m\n\u001b[1;32m      5\u001b[0m \u001b[0;31m#corpusdictionary= [dictionary.doc2bow(text) for text in processed_docs]\u001b[0m\u001b[0;34m\u001b[0m\u001b[0;34m\u001b[0m\u001b[0m\n",
      "\u001b[0;32m~/anaconda3/lib/python3.6/site-packages/gensim/corpora/dictionary.py\u001b[0m in \u001b[0;36mdoc2bow\u001b[0;34m(self, document, allow_update, return_missing)\u001b[0m\n\u001b[1;32m    238\u001b[0m         \"\"\"\n\u001b[1;32m    239\u001b[0m         \u001b[0;32mif\u001b[0m \u001b[0misinstance\u001b[0m\u001b[0;34m(\u001b[0m\u001b[0mdocument\u001b[0m\u001b[0;34m,\u001b[0m \u001b[0mstring_types\u001b[0m\u001b[0;34m)\u001b[0m\u001b[0;34m:\u001b[0m\u001b[0;34m\u001b[0m\u001b[0m\n\u001b[0;32m--> 240\u001b[0;31m             \u001b[0;32mraise\u001b[0m \u001b[0mTypeError\u001b[0m\u001b[0;34m(\u001b[0m\u001b[0;34m\"doc2bow expects an array of unicode tokens on input, not a single string\"\u001b[0m\u001b[0;34m)\u001b[0m\u001b[0;34m\u001b[0m\u001b[0m\n\u001b[0m\u001b[1;32m    241\u001b[0m \u001b[0;34m\u001b[0m\u001b[0m\n\u001b[1;32m    242\u001b[0m         \u001b[0;31m# Construct (word, frequency) mapping.\u001b[0m\u001b[0;34m\u001b[0m\u001b[0;34m\u001b[0m\u001b[0m\n",
      "\u001b[0;31mTypeError\u001b[0m: doc2bow expects an array of unicode tokens on input, not a single string"
     ]
    }
   ],
   "source": [
    "bow_corpus = [dictionary.doc2bow(doc) for doc in processed_docs]\n",
    "\n",
    "#from gensim import corpora\n",
    "#dictionary = corpora.Dictionary(processed_docs)\n",
    "#corpusdictionary= [dictionary.doc2bow(text) for text in processed_docs]\n",
    "\n",
    "\n",
    "#import pickle\n",
    "#pickle.dump(corpus, open('corpus.pkl', 'wb'))\n",
    "#dictionary.save('dictionary.gensim')"
   ]
  },
  {
   "cell_type": "code",
   "execution_count": null,
   "metadata": {},
   "outputs": [],
   "source": []
  },
  {
   "cell_type": "code",
   "execution_count": null,
   "metadata": {},
   "outputs": [],
   "source": []
  },
  {
   "cell_type": "code",
   "execution_count": null,
   "metadata": {},
   "outputs": [],
   "source": []
  },
  {
   "cell_type": "code",
   "execution_count": null,
   "metadata": {},
   "outputs": [],
   "source": []
  },
  {
   "cell_type": "code",
   "execution_count": 4,
   "metadata": {},
   "outputs": [
    {
     "name": "stdout",
     "output_type": "stream",
     "text": [
      "[nltk_data] Downloading package wordnet to\n",
      "[nltk_data]     /Users/sanjayshah/nltk_data...\n",
      "[nltk_data]   Package wordnet is already up-to-date!\n"
     ]
    },
    {
     "data": {
      "text/plain": [
       "True"
      ]
     },
     "execution_count": 4,
     "metadata": {},
     "output_type": "execute_result"
    }
   ],
   "source": [
    "import gensim\n",
    "from gensim.utils import simple_preprocess\n",
    "from gensim.parsing.preprocessing import STOPWORDS\n",
    "from nltk.stem import WordNetLemmatizer, SnowballStemmer\n",
    "from nltk.stem.porter import *\n",
    "import numpy as np\n",
    "np.random.seed(2018)\n",
    "import nltk\n",
    "nltk.download('wordnet')"
   ]
  },
  {
   "cell_type": "code",
   "execution_count": 5,
   "metadata": {},
   "outputs": [],
   "source": [
    "stemmer = SnowballStemmer('english')\n",
    "def lemmatize_stemming(text):\n",
    "    return stemmer.stem(WordNetLemmatizer().lemmatize(text, pos='v'))\n",
    "def preprocess(text):\n",
    "    result = []\n",
    "    for token in gensim.utils.simple_preprocess(text):\n",
    "        if token not in gensim.parsing.preprocessing.STOPWORDS and len(token) > 3:\n",
    "            result.append(lemmatize_stemming(token))\n",
    "    return result"
   ]
  },
  {
   "cell_type": "markdown",
   "metadata": {},
   "source": [
    "<h2>for later use </h2>"
   ]
  },
  {
   "cell_type": "code",
   "execution_count": 167,
   "metadata": {},
   "outputs": [
    {
     "data": {
      "text/html": [
       "<div>\n",
       "<style scoped>\n",
       "    .dataframe tbody tr th:only-of-type {\n",
       "        vertical-align: middle;\n",
       "    }\n",
       "\n",
       "    .dataframe tbody tr th {\n",
       "        vertical-align: top;\n",
       "    }\n",
       "\n",
       "    .dataframe thead th {\n",
       "        text-align: right;\n",
       "    }\n",
       "</style>\n",
       "<table border=\"1\" class=\"dataframe\">\n",
       "  <thead>\n",
       "    <tr style=\"text-align: right;\">\n",
       "      <th></th>\n",
       "      <th>Unnamed: 0</th>\n",
       "      <th>ASIN</th>\n",
       "      <th>GROUP</th>\n",
       "      <th>FORMAT</th>\n",
       "      <th>TITLE</th>\n",
       "      <th>AUTHOR</th>\n",
       "      <th>PUBLISHER</th>\n",
       "      <th>Description</th>\n",
       "      <th>Price</th>\n",
       "      <th>Rating</th>\n",
       "      <th>Category</th>\n",
       "    </tr>\n",
       "  </thead>\n",
       "  <tbody>\n",
       "    <tr>\n",
       "      <th>1</th>\n",
       "      <td>2014</td>\n",
       "      <td>2014</td>\n",
       "      <td>2014</td>\n",
       "      <td>2014</td>\n",
       "      <td>2014</td>\n",
       "      <td>2014</td>\n",
       "      <td>2014</td>\n",
       "      <td>2014</td>\n",
       "      <td>2014</td>\n",
       "      <td>2014</td>\n",
       "      <td>2014</td>\n",
       "    </tr>\n",
       "    <tr>\n",
       "      <th>2</th>\n",
       "      <td>1229</td>\n",
       "      <td>1229</td>\n",
       "      <td>1229</td>\n",
       "      <td>1229</td>\n",
       "      <td>1229</td>\n",
       "      <td>1229</td>\n",
       "      <td>1229</td>\n",
       "      <td>1229</td>\n",
       "      <td>1229</td>\n",
       "      <td>1229</td>\n",
       "      <td>1229</td>\n",
       "    </tr>\n",
       "    <tr>\n",
       "      <th>3</th>\n",
       "      <td>354</td>\n",
       "      <td>354</td>\n",
       "      <td>354</td>\n",
       "      <td>354</td>\n",
       "      <td>354</td>\n",
       "      <td>354</td>\n",
       "      <td>354</td>\n",
       "      <td>354</td>\n",
       "      <td>354</td>\n",
       "      <td>354</td>\n",
       "      <td>354</td>\n",
       "    </tr>\n",
       "    <tr>\n",
       "      <th>4</th>\n",
       "      <td>117</td>\n",
       "      <td>117</td>\n",
       "      <td>117</td>\n",
       "      <td>117</td>\n",
       "      <td>117</td>\n",
       "      <td>117</td>\n",
       "      <td>117</td>\n",
       "      <td>117</td>\n",
       "      <td>117</td>\n",
       "      <td>117</td>\n",
       "      <td>117</td>\n",
       "    </tr>\n",
       "  </tbody>\n",
       "</table>\n",
       "</div>"
      ],
      "text/plain": [
       "   Unnamed: 0  ASIN  GROUP  FORMAT  TITLE  AUTHOR  PUBLISHER  Description  \\\n",
       "1        2014  2014   2014    2014   2014    2014       2014         2014   \n",
       "2        1229  1229   1229    1229   1229    1229       1229         1229   \n",
       "3         354   354    354     354    354     354        354          354   \n",
       "4         117   117    117     117    117     117        117          117   \n",
       "\n",
       "   Price  Rating  Category  \n",
       "1   2014    2014      2014  \n",
       "2   1229    1229      1229  \n",
       "3    354     354       354  \n",
       "4    117     117       117  "
      ]
     },
     "execution_count": 167,
     "metadata": {},
     "output_type": "execute_result"
    }
   ],
   "source": [
    "def make_category(df, ind, col):\n",
    "    import pandas as pd\n",
    "    if df[col].loc[ind]>='4.5':\n",
    "        return '1'\n",
    "    elif df[col].loc[ind]<'4.5' and df[col].loc[ind]>='4':\n",
    "        return '2'\n",
    "    elif df[col].loc[ind]>='3.5' and df[col].loc[ind]<'4':\n",
    "        return '3'\n",
    "    elif df[col].loc[ind]<'3.5' and df[col].loc[ind]>='3':\n",
    "        return '4'\n",
    "    \n",
    "grouped = df.groupby(lambda x: make_category(df, x, 'Rating'))\n",
    "grouped.std()\n",
    "grouped.count()\n",
    "#grouped.cumcount()\n",
    "\n",
    "#%matplotlib inline\n",
    "#grouped.mean().plot(kind='bar')"
   ]
  },
  {
   "cell_type": "code",
   "execution_count": null,
   "metadata": {},
   "outputs": [],
   "source": []
  },
  {
   "cell_type": "code",
   "execution_count": null,
   "metadata": {},
   "outputs": [],
   "source": []
  }
 ],
 "metadata": {
  "kernelspec": {
   "display_name": "Python 3",
   "language": "python",
   "name": "python3"
  },
  "language_info": {
   "codemirror_mode": {
    "name": "ipython",
    "version": 3
   },
   "file_extension": ".py",
   "mimetype": "text/x-python",
   "name": "python",
   "nbconvert_exporter": "python",
   "pygments_lexer": "ipython3",
   "version": "3.6.5"
  }
 },
 "nbformat": 4,
 "nbformat_minor": 2
}

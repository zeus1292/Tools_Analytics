{
 "cells": [
  {
   "cell_type": "code",
   "execution_count": 51,
   "metadata": {},
   "outputs": [
    {
     "name": "stdout",
     "output_type": "stream",
     "text": [
      "https://www.amazon.com/s/ref=nb_sb_noss?url=search-alias%3Dstripbooks-intl-ship&field-keywords=0778319997\n",
      "https://www.amazon.com/Rise-Shine-Benedict-Stone-Novel/dp/0778319997\n",
      "Getting book\n",
      "https://www.amazon.com/Rise-Shine-Benedict-Stone-Novel/dp/0778319997\n",
      "Something broke in the function\n",
      "https://www.amazon.com/s/ref=nb_sb_noss?url=search-alias%3Dstripbooks-intl-ship&field-keywords=1250150183\n",
      "https://www.amazon.com/Swamp-Washingtons-Murky-Corruption-Cronyism/dp/1250150183\n",
      "Getting book\n",
      "https://www.amazon.com/Swamp-Washingtons-Murky-Corruption-Cronyism/dp/1250150183\n",
      "Something broke in the function\n",
      "https://www.amazon.com/s/ref=nb_sb_noss?url=search-alias%3Dstripbooks-intl-ship&field-keywords=1608322564\n",
      "https://www.amazon.com/Sell-Be-Sold-Your-Business/dp/1608322564\n",
      "Getting book\n",
      "https://www.amazon.com/Sell-Be-Sold-Your-Business/dp/1608322564\n",
      "Something broke in the function\n",
      "https://www.amazon.com/s/ref=nb_sb_noss?url=search-alias%3Dstripbooks-intl-ship&field-keywords=0310325331\n",
      "https://www.amazon.com/Christian-Apologetics-Anthology-Primary-Sources/dp/0310325331\n",
      "Getting book\n",
      "https://www.amazon.com/Christian-Apologetics-Anthology-Primary-Sources/dp/0310325331\n",
      "Something broke in the function\n",
      "['Rise and Shine, Benedict Stone: A Novel', \"The Swamp: Washington's Murky Pool of Corruption and Cronyism and How Trump Can Drain It\", 'Sell or Be Sold: How to Get Your Way in Business and in Life']\n"
     ]
    }
   ],
   "source": [
    "import json\n",
    "from bs4 import BeautifulSoup as bs\n",
    "import pandas as pd\n",
    "import numpy as np\n",
    "import requests\n",
    "\n",
    "\n",
    "\n",
    "def get_data():\n",
    "    final_book_names=list()\n",
    "    base_url = \"https://www.amazon.com/s/ref=nb_sb_noss?url=search-alias%3Dstripbooks-intl-ship&field-keywords=\"\n",
    "    book_list=[\"0778319997\",\"1250150183\",\"1608322564\",\"0310325331\"]\n",
    "    \n",
    "    try:\n",
    "        for i in book_list:\n",
    "            url = base_url+i\n",
    "            response = requests.get(url)\n",
    "#             if response.status_code==200:\n",
    "#                 print(\"Wowzie\")\n",
    "#             else:\n",
    "#                 print(\"Uh oh\")\n",
    "            while response.status_code!=200:\n",
    "                from time import sleep\n",
    "                from random import random\n",
    "                sleep(random())\n",
    "                response=requests.get(url)\n",
    "            print(url)\n",
    "            results_page=bs(response.content,\"lxml\")\n",
    "            all_book_a_tags=results_page.find(\"a\",class_=\"a-link-normal s-access-detail-page s-color-twister-title-link a-text-normal\")\n",
    "            book_url=all_book_a_tags.get(\"href\")\n",
    "            print(book_url)\n",
    "            get_book_details(book_url,final_book_names)\n",
    "        print(final_book_names)\n",
    "    except:\n",
    "        print(\"Ouch!\")\n",
    "        \n",
    "\n",
    "def get_book_details(url,final_book_names):\n",
    "    print(\"Getting book\")\n",
    "    print(url)\n",
    "    try:\n",
    "        response=requests.get(url)\n",
    "    #     if response.status_code==200:\n",
    "    #         print(\"Got the Book!\")\n",
    "    #     else:\n",
    "    #         print(\"Something Broke\")\n",
    "    #     while response.status_code!=200:\n",
    "    #             from time import sleep\n",
    "    #             from random import random\n",
    "    #             sleep(random())\n",
    "    #             response=requests.get(url)\n",
    "    #     \n",
    "        book_page=bs(response.content,\"lxml\")\n",
    "        book_title=book_page.find(\"span\",{\"id\":\"productTitle\"})\n",
    "        final_book_names.append(book_title.get_text())\n",
    "        print(book_title.get(text))\n",
    "    except:\n",
    "        print(\"Something broke in the function\")\n",
    "    \n",
    "get_data()\n",
    "        "
   ]
  },
  {
   "cell_type": "code",
   "execution_count": null,
   "metadata": {},
   "outputs": [],
   "source": []
  }
 ],
 "metadata": {
  "kernelspec": {
   "display_name": "Python 3",
   "language": "python",
   "name": "python3"
  },
  "language_info": {
   "codemirror_mode": {
    "name": "ipython",
    "version": 3
   },
   "file_extension": ".py",
   "mimetype": "text/x-python",
   "name": "python",
   "nbconvert_exporter": "python",
   "pygments_lexer": "ipython3",
   "version": "3.6.3"
  }
 },
 "nbformat": 4,
 "nbformat_minor": 2
}

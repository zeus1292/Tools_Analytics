{
 "cells": [
  {
   "cell_type": "code",
   "execution_count": 7,
   "metadata": {},
   "outputs": [],
   "source": [
    "def get_books(page_link):\n",
    "    import requests\n",
    "    from bs4 import BeautifulSoup\n",
    "    try:\n",
    "        response = requests.get(page_link)\n",
    "        if not response.status_code == 200:\n",
    "            print('page has not been found')\n",
    "        result_page = BeautifulSoup(response.content,'lxml')\n",
    "        books_list = list()\n",
    "        \n",
    "        #       get a list of books' names\n",
    "        for book in result_page.find_all('div', class_=\"p13n-sc-truncate p13n-sc-line-clamp-1\"):\n",
    "            books_list.append(book.get_text().strip())\n",
    "            \n",
    "        #       get the links of books\n",
    "        links = []\n",
    "        raw_links = []\n",
    "        for raw_link in result_page.find_all('a', class_=\"a-link-normal\"):\n",
    "            l = raw_link.get('href')\n",
    "            if '/product-reviews/' not in l:\n",
    "                if l not in raw_links:\n",
    "                    raw_links.append(l)\n",
    "                    links.append('https://www.amazon.com'+ raw_link.get('href') + '&refRID=454Q10DCT71AR7XGGGWV')\n",
    "                    \n",
    "        #       match books' names with respective links\n",
    "        bestsellers_list = list(zip(books_list, links))\n",
    "        return bestsellers_list\n",
    "    \n",
    "    except:\n",
    "        print('somthing got error')\n"
   ]
  },
  {
   "cell_type": "code",
   "execution_count": 8,
   "metadata": {},
   "outputs": [
    {
     "data": {
      "text/plain": [
       "[('Becoming',\n",
       "  'https://www.amazon.com/Becoming-Michelle-Obama/dp/1524763136?_encoding=UTF8&psc=1&refRID=454Q10DCT71AR7XGGGWV'),\n",
       " ('The Wonky Donkey',\n",
       "  'https://www.amazon.com/Wonky-Donkey-Craig-Smith/dp/0545261244?_encoding=UTF8&psc=1&refRID=454Q10DCT71AR7XGGGWV'),\n",
       " ('Diary of a Wimpy Kid Book 13',\n",
       "  'https://www.amazon.com/Diary-Wimpy-Kid-Book-13/dp/1419727435?_encoding=UTF8&psc=1&refRID=454Q10DCT71AR7XGGGWV'),\n",
       " ('The MeatEater Fish and Game Cookbook: Recipes and Techniques for Every Hunter and Angler',\n",
       "  'https://www.amazon.com/MeatEater-Fish-Game-Cookbook-Techniques/dp/0399590072?_encoding=UTF8&psc=1&refRID=454Q10DCT71AR7XGGGWV'),\n",
       " ('The Happy Cookbook: A Celebration of the Food That Makes America Smile',\n",
       "  'https://www.amazon.com/Happy-Cookbook-Celebration-Makes-America/dp/0062838946?_encoding=UTF8&psc=1&refRID=454Q10DCT71AR7XGGGWV'),\n",
       " (\"Whose Boat Is This Boat?: Comments That Don't Help in the Aftermath of a Hurricane\",\n",
       "  'https://www.amazon.com/Whose-Boat-This-Aftermath-Hurricane/dp/1982121084?_encoding=UTF8&psc=1&refRID=454Q10DCT71AR7XGGGWV'),\n",
       " ('Girl, Wash Your Face: Stop Believing the Lies About Who You Are so You Can Become Who You Were Meant to Be',\n",
       "  'https://www.amazon.com/Girl-Wash-Your-Face-Believing/dp/1400201659?_encoding=UTF8&psc=1&refRID=454Q10DCT71AR7XGGGWV'),\n",
       " ('Fire & Blood: 300 Years Before A Game of Thrones (A Targaryen History) (A Song of Ice and Fire)',\n",
       "  'https://www.amazon.com/Fire-Blood-Thrones-Targaryen-History/dp/152479628X?_encoding=UTF8&psc=1&refRID=454Q10DCT71AR7XGGGWV'),\n",
       " ('Homebody: A Guide to Creating Spaces You Never Want to Leave',\n",
       "  'https://www.amazon.com/Homebody-Guide-Creating-Spaces-Never/dp/006280197X?_encoding=UTF8&psc=1&refRID=454Q10DCT71AR7XGGGWV'),\n",
       " ('A Velocity of Being: Letters to A Young Reader',\n",
       "  'https://www.amazon.com/Velocity-Being-Letters-Young-Reader/dp/1592702287?_encoding=UTF8&psc=1&refRID=454Q10DCT71AR7XGGGWV'),\n",
       " ('Fantastic Beasts: The Crimes of Grindelwald - The Original Screenplay (Harry Potter)',\n",
       "  'https://www.amazon.com/Fantastic-Beasts-Grindelwald-Original-Screenplay/dp/1338263897?_encoding=UTF8&psc=1&refRID=454Q10DCT71AR7XGGGWV'),\n",
       " ('Magnolia Table: A Collection of Recipes for Gathering',\n",
       "  'https://www.amazon.com/Magnolia-Table-Collection-Recipes-Gathering/dp/006282015X?_encoding=UTF8&psc=1&refRID=454Q10DCT71AR7XGGGWV'),\n",
       " ('Instant Pot Pressure Cooker Cookbook: 500 Everyday Recipes for Beginners and Advanced Users. Try Easy and Healthy Instant Pot Recipes.',\n",
       "  'https://www.amazon.com/Instant-Pot-Pressure-Cooker-Cookbook/dp/1727408403?_encoding=UTF8&psc=1&refRID=454Q10DCT71AR7XGGGWV'),\n",
       " ('Together: Our Community Cookbook',\n",
       "  'https://www.amazon.com/Together-Community-Cookbook-Hubb-Kitchen/dp/1984824082?_encoding=UTF8&psc=1&refRID=454Q10DCT71AR7XGGGWV'),\n",
       " ('Harry Potter: The Illustrated Collection (Books 1-3 Boxed Set)',\n",
       "  'https://www.amazon.com/Harry-Potter-Illustrated-Collection-Books/dp/133831291X?_encoding=UTF8&psc=1&refRID=454Q10DCT71AR7XGGGWV'),\n",
       " (\"It's Not Supposed to Be This Way: Finding Unexpected Strength When Disappointments Leave You Shattered\",\n",
       "  'https://www.amazon.com/Its-Not-Supposed-This-Disappointments/dp/0718039858?_encoding=UTF8&psc=1&refRID=454Q10DCT71AR7XGGGWV'),\n",
       " ('P Is for Pterodactyl: The Worst Alphabet Book Ever',\n",
       "  'https://www.amazon.com/Pterodactyl-Worst-Alphabet-Book-Ever/dp/1492674311?_encoding=UTF8&psc=1&refRID=454Q10DCT71AR7XGGGWV'),\n",
       " ('Dog Man: Brawl of the Wild: From the Creator of Captain Underpants (Dog Man #6)',\n",
       "  'https://www.amazon.com/Dog-Man-Creator-Captain-Underpants/dp/1338236571?_encoding=UTF8&psc=1&refRID=454Q10DCT71AR7XGGGWV'),\n",
       " ('First 100 Words',\n",
       "  'https://www.amazon.com/First-100-Words-Roger-Priddy/dp/0312510780?_encoding=UTF8&psc=1&refRID=454Q10DCT71AR7XGGGWV'),\n",
       " ('5,000 Awesome Facts (About Everything!) (National Geographic Kids)',\n",
       "  'https://www.amazon.com/Awesome-Facts-Everything-National-Geographic/dp/1426310498?_encoding=UTF8&psc=1&refRID=454Q10DCT71AR7XGGGWV'),\n",
       " ('Unicorn Coloring Book: For Kids Ages 4-8 (US Edition)',\n",
       "  'https://www.amazon.com/Unicorn-Coloring-Book-Kids-Ages/dp/1999896963?_encoding=UTF8&psc=1&refRID=454Q10DCT71AR7XGGGWV'),\n",
       " ('The Reckoning: A Novel',\n",
       "  'https://www.amazon.com/Reckoning-Novel-John-Grisham/dp/0385544154?_encoding=UTF8&psc=1&refRID=454Q10DCT71AR7XGGGWV'),\n",
       " ('Construction Site on Christmas Night',\n",
       "  'https://www.amazon.com/Construction-Christmas-Sherri-Duskey-Rinker/dp/1452139113?_encoding=UTF8&psc=1&refRID=454Q10DCT71AR7XGGGWV'),\n",
       " ('The Screaming Goat (Book & Figure)',\n",
       "  'https://www.amazon.com/The-Screaming-Goat-Book-Figure/dp/0762459816?_encoding=UTF8&psc=1&refRID=454Q10DCT71AR7XGGGWV'),\n",
       " ('Dog Man: Lord of the Fleas: From the Creator of Captain Underpants (Dog Man #5)',\n",
       "  'https://www.amazon.com/Dog-Man-Creator-Captain-Underpants/dp/0545935172?_encoding=UTF8&psc=1&refRID=454Q10DCT71AR7XGGGWV'),\n",
       " ('Medical Medium Liver Rescue: Answers to Eczema, Psoriasis, Diabetes, Strep, Acne, Gout, Bloating, Gallstones, Adrenal Stress, Fatigue, Fatty Liver, Weight Issues, SIBO & Autoimmune Disease',\n",
       "  'https://www.amazon.com/Medical-Medium-Liver-Rescue-Gallstones/dp/1401954405?_encoding=UTF8&psc=1&refRID=454Q10DCT71AR7XGGGWV'),\n",
       " ('The Wonderful Things You Will Be',\n",
       "  'https://www.amazon.com/Wonderful-Things-You-Will-Be/dp/0385376715?_encoding=UTF8&psc=1&refRID=454Q10DCT71AR7XGGGWV'),\n",
       " (\"Giraffes Can't Dance\",\n",
       "  'https://www.amazon.com/Giraffes-Cant-Dance-Giles-Andreae/dp/0545392551?_encoding=UTF8&psc=1&refRID=454Q10DCT71AR7XGGGWV'),\n",
       " ('Salt, Fat, Acid, Heat: Mastering the Elements of Good Cooking',\n",
       "  'https://www.amazon.com/Salt-Fat-Acid-Heat-Mastering/dp/1476753830?_encoding=UTF8&psc=1&refRID=454Q10DCT71AR7XGGGWV'),\n",
       " ('How the Grinch Stole Christmas! (Classic Seuss)',\n",
       "  'https://www.amazon.com/Grinch-Stole-Christmas-Classic-Seuss/dp/0394800796?_encoding=UTF8&psc=1&refRID=454Q10DCT71AR7XGGGWV'),\n",
       " ('P is for Potty! (Sesame Street) (Lift-the-Flap)',\n",
       "  'https://www.amazon.com/Potty-Sesame-Street-Lift-Flap/dp/038538369X?_encoding=UTF8&psc=1&refRID=454Q10DCT71AR7XGGGWV'),\n",
       " ('Where the Crawdads Sing',\n",
       "  'https://www.amazon.com/Where-Crawdads-Sing-Delia-Owens/dp/0735219095?_encoding=UTF8&psc=1&refRID=454Q10DCT71AR7XGGGWV'),\n",
       " ('Every Breath',\n",
       "  'https://www.amazon.com/Every-Breath-Nicholas-Sparks/dp/1538728524?_encoding=UTF8&psc=1&refRID=454Q10DCT71AR7XGGGWV'),\n",
       " ('Educated: A Memoir',\n",
       "  'https://www.amazon.com/Educated-Memoir-Tara-Westover/dp/0399590501?_encoding=UTF8&psc=1&refRID=454Q10DCT71AR7XGGGWV'),\n",
       " ('The Subtle Art of Not Giving a F*ck: A Counterintuitive Approach to Living a Good Life',\n",
       "  'https://www.amazon.com/Subtle-Art-Not-Giving-Counterintuitive/dp/0062457713?_encoding=UTF8&psc=1&refRID=454Q10DCT71AR7XGGGWV'),\n",
       " ('Past Tense: A Jack Reacher Novel',\n",
       "  'https://www.amazon.com/Past-Tense-Jack-Reacher-Novel/dp/0399593519?_encoding=UTF8&psc=1&refRID=454Q10DCT71AR7XGGGWV'),\n",
       " ('Look Alive Twenty-Five: A Stephanie Plum Novel',\n",
       "  'https://www.amazon.com/Look-Alive-Twenty-Five-Stephanie-Novel/dp/0399179224?_encoding=UTF8&psc=1&refRID=454Q10DCT71AR7XGGGWV'),\n",
       " ('How to Draw Fortnite: Learn to Draw Skins (Unofficial)',\n",
       "  'https://www.amazon.com/How-Draw-Fortnite-Learn-Unofficial/dp/1718116209?_encoding=UTF8&psc=1&refRID=454Q10DCT71AR7XGGGWV'),\n",
       " ('How to Draw 101 Animals',\n",
       "  'https://www.amazon.com/How-Draw-101-Animals-Green/dp/1842297406?_encoding=UTF8&psc=1&refRID=454Q10DCT71AR7XGGGWV'),\n",
       " ('The Berenstain Bears and the Joy of Giving',\n",
       "  'https://www.amazon.com/Berenstain-Bears-Joy-Giving/dp/0310712556?_encoding=UTF8&psc=1&refRID=454Q10DCT71AR7XGGGWV'),\n",
       " (\"Killing the SS: The Hunt for the Worst War Criminals in History (Bill O'Reilly's Killing Series)\",\n",
       "  'https://www.amazon.com/Killing-SS-Criminals-History-OReillys/dp/1250165547?_encoding=UTF8&psc=1&refRID=454Q10DCT71AR7XGGGWV'),\n",
       " ('The Pout-Pout Fish',\n",
       "  'https://www.amazon.com/Pout-Pout-Fish-Deborah-Diesen/dp/0374360979?_encoding=UTF8&psc=1&refRID=454Q10DCT71AR7XGGGWV'),\n",
       " ('There Will Be No Miracles Here: A Memoir',\n",
       "  'https://www.amazon.com/There-Will-Be-Miracles-Here/dp/0735214204?_encoding=UTF8&psc=1&refRID=454Q10DCT71AR7XGGGWV'),\n",
       " ('Laugh-Out-Loud Jokes for Kids',\n",
       "  'https://www.amazon.com/Laugh-Out-Loud-Jokes-Kids-Rob-Elliott/dp/0800788036?_encoding=UTF8&psc=1&refRID=454Q10DCT71AR7XGGGWV'),\n",
       " (\"Lettering and Modern Calligraphy: A Beginner's Guide: Learn Hand Lettering and Brush Lettering\",\n",
       "  'https://www.amazon.com/Lettering-Modern-Calligraphy-Beginners-Guide/dp/1948209004?_encoding=UTF8&psc=1&refRID=454Q10DCT71AR7XGGGWV'),\n",
       " ('The Unofficial Harry Potter Cookbook: From Cauldron Cakes to Knickerbocker Glory--More Than 150 Magical Recipes for Wizards and Non-Wizards Alike (Unofficial Cookbook)',\n",
       "  'https://www.amazon.com/Unofficial-Harry-Potter-Cookbook-Knickerbocker/dp/1440503257?_encoding=UTF8&psc=1&refRID=454Q10DCT71AR7XGGGWV'),\n",
       " ('Gmorning, Gnight!: Little Pep Talks for Me & You',\n",
       "  'https://www.amazon.com/Gmorning-Gnight-Little-Pep-Talks/dp/1984854275?_encoding=UTF8&psc=1&refRID=454Q10DCT71AR7XGGGWV'),\n",
       " ('Target: Alex Cross',\n",
       "  'https://www.amazon.com/Target-Alex-Cross-James-Patterson/dp/0316273945?_encoding=UTF8&psc=1&refRID=454Q10DCT71AR7XGGGWV'),\n",
       " ('Cook Like a Pro: Recipes and Tips for Home Cooks',\n",
       "  'https://www.amazon.com/Cook-Like-Pro-Recipes-Cooks/dp/0804187045?_encoding=UTF8&psc=1&refRID=454Q10DCT71AR7XGGGWV'),\n",
       " ('Beastie Boys Book',\n",
       "  'https://www.amazon.com/Beastie-Boys-Book-Michael-Diamond/dp/0812995546?_encoding=UTF8&psc=1&refRID=454Q10DCT71AR7XGGGWV')]"
      ]
     },
     "execution_count": 8,
     "metadata": {},
     "output_type": "execute_result"
    }
   ],
   "source": [
    "get_books('https://www.amazon.com/best-sellers-books-Amazon/zgbs/books')"
   ]
  },
  {
   "cell_type": "code",
   "execution_count": 11,
   "metadata": {
    "collapsed": true
   },
   "outputs": [],
   "source": [
    "def get_descriptions(page_link):\n",
    "    import requests\n",
    "    from bs4 import BeautifulSoup\n",
    "    descriptions_dict = {}\n",
    "    \n",
    "    #     get the best selleing books and their links\n",
    "    bestsellers_list = get_books(page_link)\n",
    "    #     iterate links to get books' description\n",
    "    for book in bestsellers_list:\n",
    "        response = requests.get(book[1])\n",
    "        if not response.status_code == 200:\n",
    "            print('page has not been found')\n",
    "        result_page = BeautifulSoup(response.content,'lxml')\n",
    "        descriptions_dict[book[0]] = result_page.find('div', id_=\"iframeContent\", dir_=\"auto\").get_text()\n",
    "    return descriptions_dict\n",
    "        \n",
    "        "
   ]
  },
  {
   "cell_type": "code",
   "execution_count": 13,
   "metadata": {},
   "outputs": [
    {
     "ename": "AttributeError",
     "evalue": "ResultSet object has no attribute 'get_text'. You're probably treating a list of items like a single item. Did you call find_all() when you meant to call find()?",
     "output_type": "error",
     "traceback": [
      "\u001b[0;31m---------------------------------------------------------------------------\u001b[0m",
      "\u001b[0;31mAttributeError\u001b[0m                            Traceback (most recent call last)",
      "\u001b[0;32m<ipython-input-13-bf7b3e218c19>\u001b[0m in \u001b[0;36m<module>\u001b[0;34m()\u001b[0m\n\u001b[1;32m      1\u001b[0m \u001b[0mpage\u001b[0m \u001b[0;34m=\u001b[0m \u001b[0;34m'https://www.amazon.com/best-sellers-books-Amazon/zgbs/books'\u001b[0m\u001b[0;34m\u001b[0m\u001b[0m\n\u001b[0;32m----> 2\u001b[0;31m \u001b[0mget_descriptions\u001b[0m\u001b[0;34m(\u001b[0m\u001b[0mpage\u001b[0m\u001b[0;34m)\u001b[0m\u001b[0;34m\u001b[0m\u001b[0m\n\u001b[0m",
      "\u001b[0;32m<ipython-input-11-fe853ce8d335>\u001b[0m in \u001b[0;36mget_descriptions\u001b[0;34m(page_link)\u001b[0m\n\u001b[1;32m     12\u001b[0m             \u001b[0mprint\u001b[0m\u001b[0;34m(\u001b[0m\u001b[0;34m'page has not been found'\u001b[0m\u001b[0;34m)\u001b[0m\u001b[0;34m\u001b[0m\u001b[0m\n\u001b[1;32m     13\u001b[0m         \u001b[0mresult_page\u001b[0m \u001b[0;34m=\u001b[0m \u001b[0mBeautifulSoup\u001b[0m\u001b[0;34m(\u001b[0m\u001b[0mresponse\u001b[0m\u001b[0;34m.\u001b[0m\u001b[0mcontent\u001b[0m\u001b[0;34m,\u001b[0m\u001b[0;34m'lxml'\u001b[0m\u001b[0;34m)\u001b[0m\u001b[0;34m\u001b[0m\u001b[0m\n\u001b[0;32m---> 14\u001b[0;31m         \u001b[0mdescriptions_dict\u001b[0m\u001b[0;34m[\u001b[0m\u001b[0mbook\u001b[0m\u001b[0;34m[\u001b[0m\u001b[0;36m0\u001b[0m\u001b[0;34m]\u001b[0m\u001b[0;34m]\u001b[0m \u001b[0;34m=\u001b[0m \u001b[0mresult_page\u001b[0m\u001b[0;34m.\u001b[0m\u001b[0mfind_all\u001b[0m\u001b[0;34m(\u001b[0m\u001b[0;34m'div'\u001b[0m\u001b[0;34m,\u001b[0m \u001b[0mid_\u001b[0m\u001b[0;34m=\u001b[0m\u001b[0;34m\"iframeContent\"\u001b[0m\u001b[0;34m,\u001b[0m \u001b[0mdir_\u001b[0m\u001b[0;34m=\u001b[0m\u001b[0;34m\"auto\"\u001b[0m\u001b[0;34m)\u001b[0m\u001b[0;34m.\u001b[0m\u001b[0mget_text\u001b[0m\u001b[0;34m(\u001b[0m\u001b[0;34m)\u001b[0m\u001b[0;34m\u001b[0m\u001b[0m\n\u001b[0m\u001b[1;32m     15\u001b[0m     \u001b[0;32mreturn\u001b[0m \u001b[0mdescriptions_dict\u001b[0m\u001b[0;34m\u001b[0m\u001b[0m\n\u001b[1;32m     16\u001b[0m \u001b[0;34m\u001b[0m\u001b[0m\n",
      "\u001b[0;32m/Users/LovelyCheuk/anaconda/lib/python3.6/site-packages/bs4/element.py\u001b[0m in \u001b[0;36m__getattr__\u001b[0;34m(self, key)\u001b[0m\n\u001b[1;32m   1805\u001b[0m     \u001b[0;32mdef\u001b[0m \u001b[0m__getattr__\u001b[0m\u001b[0;34m(\u001b[0m\u001b[0mself\u001b[0m\u001b[0;34m,\u001b[0m \u001b[0mkey\u001b[0m\u001b[0;34m)\u001b[0m\u001b[0;34m:\u001b[0m\u001b[0;34m\u001b[0m\u001b[0m\n\u001b[1;32m   1806\u001b[0m         raise AttributeError(\n\u001b[0;32m-> 1807\u001b[0;31m             \u001b[0;34m\"ResultSet object has no attribute '%s'. You're probably treating a list of items like a single item. Did you call find_all() when you meant to call find()?\"\u001b[0m \u001b[0;34m%\u001b[0m \u001b[0mkey\u001b[0m\u001b[0;34m\u001b[0m\u001b[0m\n\u001b[0m\u001b[1;32m   1808\u001b[0m         )\n",
      "\u001b[0;31mAttributeError\u001b[0m: ResultSet object has no attribute 'get_text'. You're probably treating a list of items like a single item. Did you call find_all() when you meant to call find()?"
     ]
    }
   ],
   "source": [
    "page = 'https://www.amazon.com/best-sellers-books-Amazon/zgbs/books'\n",
    "get_descriptions(page)"
   ]
  },
  {
   "cell_type": "code",
   "execution_count": null,
   "metadata": {
    "collapsed": true
   },
   "outputs": [],
   "source": []
  },
  {
   "cell_type": "code",
   "execution_count": null,
   "metadata": {
    "collapsed": true
   },
   "outputs": [],
   "source": [
    "import requests\n",
    "from bs4 import BeautifulSoup\n",
    "response = requests.get('https://www.amazon.com/best-sellers-books-Amazon/zgbs/books')\n",
    "result_page = BeautifulSoup(response.content,'lxml')\n"
   ]
  },
  {
   "cell_type": "code",
   "execution_count": null,
   "metadata": {},
   "outputs": [],
   "source": []
  },
  {
   "cell_type": "code",
   "execution_count": null,
   "metadata": {},
   "outputs": [],
   "source": []
  },
  {
   "cell_type": "code",
   "execution_count": null,
   "metadata": {
    "collapsed": true
   },
   "outputs": [],
   "source": []
  }
 ],
 "metadata": {
  "kernelspec": {
   "display_name": "Python 3",
   "language": "python",
   "name": "python3"
  },
  "language_info": {
   "codemirror_mode": {
    "name": "ipython",
    "version": 3
   },
   "file_extension": ".py",
   "mimetype": "text/x-python",
   "name": "python",
   "nbconvert_exporter": "python",
   "pygments_lexer": "ipython3",
   "version": "3.6.1"
  }
 },
 "nbformat": 4,
 "nbformat_minor": 2
}

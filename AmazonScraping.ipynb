{
 "cells": [
  {
   "cell_type": "code",
   "execution_count": 51,
   "metadata": {},
   "outputs": [
    {
     "name": "stdout",
     "output_type": "stream",
     "text": [
      "https://www.amazon.com/s/ref=nb_sb_noss?url=search-alias%3Dstripbooks-intl-ship&field-keywords=0778319997\n",
      "https://www.amazon.com/Rise-Shine-Benedict-Stone-Novel/dp/0778319997\n",
      "Getting book\n",
      "https://www.amazon.com/Rise-Shine-Benedict-Stone-Novel/dp/0778319997\n",
      "Something broke in the function\n",
      "https://www.amazon.com/s/ref=nb_sb_noss?url=search-alias%3Dstripbooks-intl-ship&field-keywords=1250150183\n",
      "https://www.amazon.com/Swamp-Washingtons-Murky-Corruption-Cronyism/dp/1250150183\n",
      "Getting book\n",
      "https://www.amazon.com/Swamp-Washingtons-Murky-Corruption-Cronyism/dp/1250150183\n",
      "Something broke in the function\n",
      "https://www.amazon.com/s/ref=nb_sb_noss?url=search-alias%3Dstripbooks-intl-ship&field-keywords=1608322564\n",
      "https://www.amazon.com/Sell-Be-Sold-Your-Business/dp/1608322564\n",
      "Getting book\n",
      "https://www.amazon.com/Sell-Be-Sold-Your-Business/dp/1608322564\n",
      "Something broke in the function\n",
      "https://www.amazon.com/s/ref=nb_sb_noss?url=search-alias%3Dstripbooks-intl-ship&field-keywords=0310325331\n",
      "https://www.amazon.com/Christian-Apologetics-Anthology-Primary-Sources/dp/0310325331\n",
      "Getting book\n",
      "https://www.amazon.com/Christian-Apologetics-Anthology-Primary-Sources/dp/0310325331\n",
      "Something broke in the function\n",
      "['Rise and Shine, Benedict Stone: A Novel', \"The Swamp: Washington's Murky Pool of Corruption and Cronyism and How Trump Can Drain It\", 'Sell or Be Sold: How to Get Your Way in Business and in Life']\n"
     ]
    }
   ],
   "source": [
    "import json\n",
    "from bs4 import BeautifulSoup as bs\n",
    "import pandas as pd\n",
    "import numpy as np\n",
    "import requests\n",
    "\n",
    "\n",
    "\n",
    "def get_data():\n",
    "    final_book_names=list()\n",
    "    base_url = \"https://www.amazon.com/s/ref=nb_sb_noss?url=search-alias%3Dstripbooks-intl-ship&field-keywords=\"\n",
    "    book_list=[\"0778319997\",\"1250150183\",\"1608322564\",\"0310325331\"]\n",
    "    \n",
    "    try:\n",
    "        for i in book_list:\n",
    "            url = base_url+i\n",
    "            response = requests.get(url)\n",
    "#             if response.status_code==200:\n",
    "#                 print(\"Wowzie\")\n",
    "#             else:\n",
    "#                 print(\"Uh oh\")\n",
    "            while response.status_code!=200:\n",
    "                from time import sleep\n",
    "                from random import random\n",
    "                sleep(random())\n",
    "                response=requests.get(url)\n",
    "            print(url)\n",
    "            results_page=bs(response.content,\"lxml\")\n",
    "            all_book_a_tags=results_page.find(\"a\",class_=\"a-link-normal s-access-detail-page s-color-twister-title-link a-text-normal\")\n",
    "            book_url=all_book_a_tags.get(\"href\")\n",
    "            print(book_url)\n",
    "            get_book_details(book_url,final_book_names)\n",
    "        print(final_book_names)\n",
    "    except:\n",
    "        print(\"Ouch!\")\n",
    "        \n",
    "\n",
    "def get_book_details(url,final_book_names):\n",
    "    print(\"Getting book\")\n",
    "    print(url)\n",
    "    try:\n",
    "        response=requests.get(url)\n",
    "    #     if response.status_code==200:\n",
    "    #         print(\"Got the Book!\")\n",
    "    #     else:\n",
    "    #         print(\"Something Broke\")\n",
    "    #     while response.status_code!=200:\n",
    "    #             from time import sleep\n",
    "    #             from random import random\n",
    "    #             sleep(random())\n",
    "    #             response=requests.get(url)\n",
    "    #     \n",
    "        book_page=bs(response.content,\"lxml\")\n",
    "        book_title=book_page.find(\"span\",{\"id\":\"productTitle\"})\n",
    "        final_book_names.append(book_title.get_text())\n",
    "        print(book_title.get(text))\n",
    "    except:\n",
    "        print(\"Something broke in the function\")\n",
    "    \n",
    "get_data()\n",
    "        "
   ]
  },
  {
   "cell_type": "code",
   "execution_count": 2,
   "metadata": {},
   "outputs": [
    {
     "ename": "ModuleNotFoundError",
     "evalue": "No module named 'BeautifulSoup'",
     "output_type": "error",
     "traceback": [
      "\u001b[0;31m---------------------------------------------------------------------------\u001b[0m",
      "\u001b[0;31mModuleNotFoundError\u001b[0m                       Traceback (most recent call last)",
      "\u001b[0;32m<ipython-input-2-4bc313731021>\u001b[0m in \u001b[0;36m<module>\u001b[0;34m\u001b[0m\n\u001b[1;32m      1\u001b[0m \u001b[0;32mimport\u001b[0m \u001b[0mjson\u001b[0m\u001b[0;34m\u001b[0m\u001b[0m\n\u001b[0;32m----> 2\u001b[0;31m \u001b[0;32mimport\u001b[0m \u001b[0mBeautifulSoup\u001b[0m \u001b[0;32mas\u001b[0m \u001b[0mbs\u001b[0m\u001b[0;34m\u001b[0m\u001b[0m\n\u001b[0m\u001b[1;32m      3\u001b[0m \u001b[0;32mimport\u001b[0m \u001b[0mpandas\u001b[0m \u001b[0;32mas\u001b[0m \u001b[0mpd\u001b[0m\u001b[0;34m\u001b[0m\u001b[0m\n\u001b[1;32m      4\u001b[0m \u001b[0;32mimport\u001b[0m \u001b[0mnumpy\u001b[0m \u001b[0;32mas\u001b[0m \u001b[0mnp\u001b[0m\u001b[0;34m\u001b[0m\u001b[0m\n\u001b[1;32m      5\u001b[0m \u001b[0;32mimport\u001b[0m \u001b[0mrequests\u001b[0m\u001b[0;34m\u001b[0m\u001b[0m\n",
      "\u001b[0;31mModuleNotFoundError\u001b[0m: No module named 'BeautifulSoup'"
     ]
    }
   ],
   "source": [
    "import json\n",
    "import BeautifulSoup as bs\n",
    "import pandas as pd\n",
    "import numpy as np\n",
    "import requests\n",
    "\n",
    "base_url = \"https://www.amazon.com/s/ref=nb_sb_noss?url=search-alias%3Dstripbooks-intl-ship&field-keywords=\"\n",
    "book_list=\"1608322564\"\n",
    "url=base_url+book_list\n",
    "response=requests.get(url)\n",
    "print(response)"
   ]
  },
  {
   "cell_type": "code",
   "execution_count": 6,
   "metadata": {},
   "outputs": [
    {
     "name": "stdout",
     "output_type": "stream",
     "text": [
      "Collecting BeautifulSoup\n",
      "  Using cached https://files.pythonhosted.org/packages/1e/ee/295988deca1a5a7accd783d0dfe14524867e31abb05b6c0eeceee49c759d/BeautifulSoup-3.2.1.tar.gz\n",
      "    Complete output from command python setup.py egg_info:\n",
      "    Traceback (most recent call last):\n",
      "      File \"<string>\", line 1, in <module>\n",
      "      File \"/tmp/pip-install-0g7px6j9/BeautifulSoup/setup.py\", line 22\n",
      "        print \"Unit tests have failed!\"\n",
      "                                      ^\n",
      "    SyntaxError: Missing parentheses in call to 'print'. Did you mean print(int \"Unit tests have failed!\")?\n",
      "    \n",
      "    ----------------------------------------\n",
      "\u001b[31mCommand \"python setup.py egg_info\" failed with error code 1 in /tmp/pip-install-0g7px6j9/BeautifulSoup/\u001b[0m\n"
     ]
    }
   ],
   "source": [
    "import requests \n",
    "url = 'https://httpbin.org/user-agent'\n",
    "user_agent = 'Mozilla/5.0 (Macintosh; Intel Mac OS X 10_9_3) AppleWebKit/537.36 (KHTML, like Gecko) Chrome/35.0.1916.47 Safari/537.36'\n",
    "headers = {'User-Agent': user_agent}\n",
    "response = requests.get(url,headers=headers)\n",
    "html = response.content\n",
    "print(response.content)"
   ]
  },
  {
   "cell_type": "code",
   "execution_count": 5,
   "metadata": {},
   "outputs": [
    {
     "name": "stdout",
     "output_type": "stream",
     "text": [
      "Collecting pip\n",
      "  Downloading https://files.pythonhosted.org/packages/c2/d7/90f34cb0d83a6c5631cf71dfe64cc1054598c843a92b400e55675cc2ac37/pip-18.1-py2.py3-none-any.whl (1.3MB)\n",
      "\u001b[K    100% |████████████████████████████████| 1.3MB 1.0MB/s eta 0:00:01\n",
      "\u001b[?25hInstalling collected packages: pip\n",
      "  Found existing installation: pip 9.0.1\n",
      "    Uninstalling pip-9.0.1:\n",
      "      Successfully uninstalled pip-9.0.1\n",
      "Successfully installed pip-18.1\n"
     ]
    }
   ],
   "source": [
    "!pip install --upgrade pip"
   ]
  },
  {
   "cell_type": "code",
   "execution_count": null,
   "metadata": {
    "collapsed": true
   },
   "outputs": [],
   "source": []
  }
 ],
 "metadata": {
  "kernelspec": {
   "display_name": "Python 3",
   "language": "python",
   "name": "python3"
  },
  "language_info": {
   "codemirror_mode": {
    "name": "ipython",
    "version": 3
   },
   "file_extension": ".py",
   "mimetype": "text/x-python",
   "name": "python",
   "nbconvert_exporter": "python",
   "pygments_lexer": "ipython3",
   "version": "3.6.1"
  }
 },
 "nbformat": 4,
 "nbformat_minor": 2
}

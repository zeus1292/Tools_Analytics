{
 "cells": [
  {
   "cell_type": "markdown",
   "metadata": {},
   "source": [
    "<h2> Build the LSI Model</h2>"
   ]
  },
  {
   "cell_type": "code",
   "execution_count": null,
   "metadata": {},
   "outputs": [],
   "source": [
    "#Code for LSI model goes here\n",
    "from gensim import corpora\n",
    "from gensim.models import LsiModel\n",
    "from gensim.parsing.preprocessing import STOPWORDS\n",
    "import pprint\n",
    "from nltk import sent_tokenize,word_tokenize \n",
    "import re\n",
    "\n",
    "for i in range(len(rating_description)):\n",
    "    doc = rating_description[i]\n",
    "    doc_sent = sent_tokenize(doc)\n",
    "    for j in range(len(doc_sent)):\n",
    "        sent = doc_sent[j]\n",
    "        sent = sent.strip().replace('\\n','')\n",
    "        sent = re.sub('[\\[0-9+\\]]','',sent)\n",
    "        doc_sent[j] = sent\n",
    "    rating_description[i] = '. '.join(doc_sent)\n",
    "\n",
    "\n",
    "texts = [[word for word in doc.lower().split()\n",
    "        if word not in STOPWORDS and word.isalnum()]\n",
    "        for doc in rating_description]\n",
    "\n",
    "dictionary=corpora.Dictionary(texts)\n",
    "corpus=[dictionary.doc2bow(text) for text in texts]\n",
    "    \n",
    "#Prof Johar's code\n",
    "lsi = LsiModel(corpus, id2word=dictionary, num_topics=5)"
   ]
  },
  {
   "cell_type": "markdown",
   "metadata": {},
   "source": [
    "<h2>Control Loop for checking the incoming Rating Type</h2>"
   ]
  },
  {
   "cell_type": "code",
   "execution_count": null,
   "metadata": {},
   "outputs": [],
   "source": [
    "from gensim.similarities.docsim import Similarity\n",
    "from gensim import corpora, models, similarities\n",
    "\n",
    "table_data = list()\n",
    "for dat in new_list:\n",
    "    \n",
    "    #Your similarity code here. Use the in-class notebook as a reference\n",
    "    vec_bow=dictionary.doc2bow(dat.lower().split())\n",
    "    vec_lsi=lsi[vec_bow]\n",
    "    index=similarities.MatrixSimilarity(lsi[corpus])\n",
    "    sims=index[vec_lsi]\n",
    "    sims = sorted(enumerate(sims), key=lambda item: -item[1])\n",
    "    most_similar_rating = sims[0][0]\n",
    "    table_data.append((rating_list[most_similar_rating],rating_description[most_similar_rating]))\n",
    "    \n",
    "#Write code to print table_data after the for loop ends\n",
    "print(table_data[0][0])   "
   ]
  },
  {
   "cell_type": "markdown",
   "metadata": {},
   "source": [
    "<h2> Sample to test against</h2>"
   ]
  },
  {
   "cell_type": "code",
   "execution_count": null,
   "metadata": {},
   "outputs": [],
   "source": [
    "new_list=[\"Gibson, the bestselling author of the cyberpunk classic Neuromancer (which has already been optioned for film), is known for thoughtful examinations of near-future technology and its impact on society. The Peripheral takes place in both the near-future and several decades further on, after several catastrophes have killed off most of the world's population. In the near future, down-and-out Flynne Fisher finds a job beta-testing a drug that connects her to a virtual reality world where she witnesses the death of one of the characters. The trouble is, she's not in virtual reality at all. She experiencing one of London's possible futures where the elite survivors of that post-apocalyptic age can interact with people from the past via their peripheral avatars and manipulate the past to their liking. It's no wonder that The Peripheral has been optioned for a television series; this is an interesting take on time travel spun as a mystery thriller, and it also sets the groundwork for what could be multiple story lines. The project is being produced by Kilter Films in association with Warner Bros. Television and Amazon Studios, to be televised as an Amazon series. The series will be written by Scott B. Smith who will also serve as executive producer along with Westworld creators Jonathan Nolan and Lisa Joy.\",\n",
    "         \"Hurwitz's Spy-Fi thriller is what you might get if you mashed together The Equalizer with the X-Files. A secret, off-the-books government program to train orphans to be elite assassins forms the basis for this fast-paced story. Evan Smoak was once Orphan X before he broke up the program and escaped into hiding using his new skills. He's since become a legend, using his abilities—and an impressive arsenal of technology—for good, helping deserving victims get justice. But the people who ran the Orphan program are not so easily left behind. They're still looking for Evan and they have an army of equally-trained assassins to find him. You can join the adventure when Justin Lin's Perfect Storm Entertainment adapts he book into a television series with Hurwitz himself working as a co-screenwriter.\"]"
   ]
  }
 ],
 "metadata": {
  "kernelspec": {
   "display_name": "Python 3",
   "language": "python",
   "name": "python3"
  },
  "language_info": {
   "codemirror_mode": {
    "name": "ipython",
    "version": 3
   },
   "file_extension": ".py",
   "mimetype": "text/x-python",
   "name": "python",
   "nbconvert_exporter": "python",
   "pygments_lexer": "ipython3",
   "version": "3.6.3"
  }
 },
 "nbformat": 4,
 "nbformat_minor": 2
}

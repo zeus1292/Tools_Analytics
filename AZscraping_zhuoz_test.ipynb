{
 "cells": [
  {
   "cell_type": "markdown",
   "metadata": {},
   "source": [
    "<h1>Amazon Dataset Processing</h1>"
   ]
  },
  {
   "cell_type": "markdown",
   "metadata": {},
   "source": [
    "<h3>1. Function to return: Author, ISBN-10, ISBN-13, platform, price, category1, category2, description</h3>\n",
    "\n",
    "Update From <b>Akshay</b> - \n",
    "<font color='red'>Information available from Kaggle:</font>\n",
    "\n",
    "<li>ISBN 10</li>\n",
    "<li>Author</li>\n",
    "<li>Platform</li>\n",
    "\n",
    "<b>Information Being scraped:</b>\n",
    "\n",
    "<li>Description</li>\n",
    "<li>Price</li>\n",
    "\n",
    "Categories aren't available for all books. We might have to skip this for the moment."
   ]
  },
  {
   "cell_type": "markdown",
   "metadata": {},
   "source": [
    "<h3> Read data from amazon_com_extras. </h3>"
   ]
  },
  {
   "cell_type": "code",
   "execution_count": 76,
   "metadata": {},
   "outputs": [],
   "source": [
    "import pandas as pd\n",
    "import random \n",
    "import json\n",
    "from bs4 import BeautifulSoup as bs\n",
    "import numpy as np\n",
    "import requests\n",
    "import time\n",
    "\n",
    "my_csvfile='./file2_lily.csv' #please modify filename to your own need\n",
    "start_entry=1001\n",
    "end_entry=1010 #akshay already did 1~1000 entry, edit yours accordingly \n",
    "#from time import sleep\n",
    "#from random import random\n",
    "#path_kaggle = r'C:\\Users\\endwy\\Documents\\Columbia MSBA\\Fall 2018\\E4501 - Tools for Analytics\\Project\\kaggle data\\amazon_com_extras.csv'\n",
    "path_kaggle = './amazon_com_extras.csv' #download from https://www.kaggle.com/ucffool/amazon-sales-rank-data-for-print-and-kindle-books/version/3\n",
    "\n",
    "with open(path_kaggle):\n",
    "    #Added fields since line 808 in csv has more than 6 cols and needs to be told to ignore extra data.\n",
    "    \n",
    "    fields=['ASIN','GROUP','FORMAT','TITLE','AUTHOR','PUBLISHER']\n",
    "    df_kaggle = pd.read_csv(path_kaggle, encoding='latin1', dtype=str,usecols=fields)"
   ]
  },
  {
   "cell_type": "code",
   "execution_count": 77,
   "metadata": {},
   "outputs": [
    {
     "data": {
      "text/html": [
       "<div>\n",
       "<style scoped>\n",
       "    .dataframe tbody tr th:only-of-type {\n",
       "        vertical-align: middle;\n",
       "    }\n",
       "\n",
       "    .dataframe tbody tr th {\n",
       "        vertical-align: top;\n",
       "    }\n",
       "\n",
       "    .dataframe thead th {\n",
       "        text-align: right;\n",
       "    }\n",
       "</style>\n",
       "<table border=\"1\" class=\"dataframe\">\n",
       "  <thead>\n",
       "    <tr style=\"text-align: right;\">\n",
       "      <th></th>\n",
       "      <th>ASIN</th>\n",
       "      <th>GROUP</th>\n",
       "      <th>FORMAT</th>\n",
       "      <th>TITLE</th>\n",
       "      <th>AUTHOR</th>\n",
       "      <th>PUBLISHER</th>\n",
       "    </tr>\n",
       "  </thead>\n",
       "  <tbody>\n",
       "    <tr>\n",
       "      <th>1001</th>\n",
       "      <td>1772265039</td>\n",
       "      <td>book</td>\n",
       "      <td>hardcover</td>\n",
       "      <td>The Preschooler's Handbook: Bilingual (English...</td>\n",
       "      <td>Dayna Martin, A.R. Roumanis</td>\n",
       "      <td>Engage Books</td>\n",
       "    </tr>\n",
       "    <tr>\n",
       "      <th>1002</th>\n",
       "      <td>0618945393</td>\n",
       "      <td>book</td>\n",
       "      <td>hardcover</td>\n",
       "      <td>Mariposa Road: The First Butterfly Big Year</td>\n",
       "      <td>Robert Michael Pyle</td>\n",
       "      <td>Houghton Mifflin Harcourt</td>\n",
       "    </tr>\n",
       "    <tr>\n",
       "      <th>1003</th>\n",
       "      <td>1493210033</td>\n",
       "      <td>book</td>\n",
       "      <td>hardcover</td>\n",
       "      <td>Implementing SAP BW on SAP HANA</td>\n",
       "      <td>Matthias Merz, Torben HÃ¼gens, Steve Blum</td>\n",
       "      <td>SAP Press</td>\n",
       "    </tr>\n",
       "    <tr>\n",
       "      <th>1004</th>\n",
       "      <td>022629899X</td>\n",
       "      <td>book</td>\n",
       "      <td>hardcover</td>\n",
       "      <td>Plundered Skulls and Stolen Spirits: Inside th...</td>\n",
       "      <td>Chip Colwell</td>\n",
       "      <td>University Of Chicago Press</td>\n",
       "    </tr>\n",
       "    <tr>\n",
       "      <th>1005</th>\n",
       "      <td>1501176684</td>\n",
       "      <td>book</td>\n",
       "      <td>hardcover</td>\n",
       "      <td>Love Her Wild: Poems</td>\n",
       "      <td>Atticus</td>\n",
       "      <td>Atria Books</td>\n",
       "    </tr>\n",
       "    <tr>\n",
       "      <th>1006</th>\n",
       "      <td>0307987302</td>\n",
       "      <td>book</td>\n",
       "      <td>hardcover</td>\n",
       "      <td>Rod: The Autobiography</td>\n",
       "      <td>Rod Stewart</td>\n",
       "      <td>Crown Archetype</td>\n",
       "    </tr>\n",
       "    <tr>\n",
       "      <th>1007</th>\n",
       "      <td>1510737480</td>\n",
       "      <td>book</td>\n",
       "      <td>hardcover</td>\n",
       "      <td>The Benefits of Being an Octopus</td>\n",
       "      <td>Ann Braden</td>\n",
       "      <td>Sky Pony Press</td>\n",
       "    </tr>\n",
       "    <tr>\n",
       "      <th>1008</th>\n",
       "      <td>1481411225</td>\n",
       "      <td>book</td>\n",
       "      <td>hardcover</td>\n",
       "      <td>Compulsion (Heirs of Watson Island)</td>\n",
       "      <td>Martina Boone</td>\n",
       "      <td>Simon Pulse</td>\n",
       "    </tr>\n",
       "    <tr>\n",
       "      <th>1009</th>\n",
       "      <td>1941631606</td>\n",
       "      <td>book</td>\n",
       "      <td>hardcover</td>\n",
       "      <td>Media Circus: A Look at Private Tragedy in the...</td>\n",
       "      <td>Kim Goldman, Tatsha Robertson</td>\n",
       "      <td>BenBella Books</td>\n",
       "    </tr>\n",
       "    <tr>\n",
       "      <th>1010</th>\n",
       "      <td>1501805339</td>\n",
       "      <td>book</td>\n",
       "      <td>hardcover</td>\n",
       "      <td>John: The Gospel of Light and Life (John series)</td>\n",
       "      <td>Adam Hamilton</td>\n",
       "      <td>Abingdon Press</td>\n",
       "    </tr>\n",
       "  </tbody>\n",
       "</table>\n",
       "</div>"
      ],
      "text/plain": [
       "            ASIN GROUP     FORMAT  \\\n",
       "1001  1772265039  book  hardcover   \n",
       "1002  0618945393  book  hardcover   \n",
       "1003  1493210033  book  hardcover   \n",
       "1004  022629899X  book  hardcover   \n",
       "1005  1501176684  book  hardcover   \n",
       "1006  0307987302  book  hardcover   \n",
       "1007  1510737480  book  hardcover   \n",
       "1008  1481411225  book  hardcover   \n",
       "1009  1941631606  book  hardcover   \n",
       "1010  1501805339  book  hardcover   \n",
       "\n",
       "                                                  TITLE  \\\n",
       "1001  The Preschooler's Handbook: Bilingual (English...   \n",
       "1002        Mariposa Road: The First Butterfly Big Year   \n",
       "1003                    Implementing SAP BW on SAP HANA   \n",
       "1004  Plundered Skulls and Stolen Spirits: Inside th...   \n",
       "1005                               Love Her Wild: Poems   \n",
       "1006                             Rod: The Autobiography   \n",
       "1007                   The Benefits of Being an Octopus   \n",
       "1008                Compulsion (Heirs of Watson Island)   \n",
       "1009  Media Circus: A Look at Private Tragedy in the...   \n",
       "1010   John: The Gospel of Light and Life (John series)   \n",
       "\n",
       "                                         AUTHOR                    PUBLISHER  \n",
       "1001                Dayna Martin, A.R. Roumanis                 Engage Books  \n",
       "1002                        Robert Michael Pyle    Houghton Mifflin Harcourt  \n",
       "1003  Matthias Merz, Torben HÃ¼gens, Steve Blum                    SAP Press  \n",
       "1004                               Chip Colwell  University Of Chicago Press  \n",
       "1005                                    Atticus                  Atria Books  \n",
       "1006                                Rod Stewart              Crown Archetype  \n",
       "1007                                 Ann Braden               Sky Pony Press  \n",
       "1008                              Martina Boone                  Simon Pulse  \n",
       "1009              Kim Goldman, Tatsha Robertson               BenBella Books  \n",
       "1010                              Adam Hamilton               Abingdon Press  "
      ]
     },
     "execution_count": 77,
     "metadata": {},
     "output_type": "execute_result"
    }
   ],
   "source": [
    "#print(len(df_kaggle))\n",
    "Df_read = df_kaggle.iloc[start_entry:end_entry+1]\n",
    "# df_kaggle\n",
    "# Df_read['ddd']=''\n",
    "# Df_read['ddd'].iloc[1]=2\n",
    "Df_read"
   ]
  },
  {
   "cell_type": "markdown",
   "metadata": {},
   "source": [
    "<h4>Note: Amazon will identify and block you as a bot, please exercise caution while pulling data. Use user agents and throttling to prevent sending multilpe requests</h4>"
   ]
  },
  {
   "cell_type": "markdown",
   "metadata": {},
   "source": [
    "User Agent Code - Refer https://www.scrapehero.com/how-to-fake-and-rotate-user-agents-using-python-3/\n",
    "\n",
    "Updated the following :\n",
    "\n",
    "<li>Throttling</li>\n",
    "<li>Saving data to a single dataframe</li>\n",
    "\n",
    "<h3> 1. Pull data from the Kaggle Dataset. We'll be using ISBN 10 to scrape book descriptions</h3>"
   ]
  },
  {
   "cell_type": "code",
   "execution_count": 72,
   "metadata": {
    "collapsed": true
   },
   "outputs": [],
   "source": [
    "import requests\n",
    "import numpy as np\n",
    "\n",
    "def amazon_description(book_metadata):\n",
    "    \n",
    "    import random\n",
    "    import time\n",
    "    \n",
    "    #New columns that will be added to book_metadata\n",
    "    book_descriptions=list()\n",
    "    book_price=list()\n",
    "    book_rating=list()\n",
    "    \n",
    "    user_agent_list = [\n",
    "           #Chrome\n",
    "            'Mozilla/5.0 (Windows NT 10.0; Win64; x64) AppleWebKit/537.36 (KHTML, like Gecko) Chrome/60.0.3112.113 Safari/537.36',\n",
    "            'Mozilla/5.0 (Windows NT 6.1; Win64; x64) AppleWebKit/537.36 (KHTML, like Gecko) Chrome/60.0.3112.90 Safari/537.36',\n",
    "            'Mozilla/5.0 (Windows NT 5.1; Win64; x64) AppleWebKit/537.36 (KHTML, like Gecko) Chrome/60.0.3112.90 Safari/537.36',\n",
    "            'Mozilla/5.0 (Windows NT 6.2; Win64; x64) AppleWebKit/537.36 (KHTML, like Gecko) Chrome/60.0.3112.90 Safari/537.36',\n",
    "            'Mozilla/5.0 (X11; Linux x86_64) AppleWebKit/537.36 (KHTML, like Gecko) Chrome/44.0.2403.157 Safari/537.36',\n",
    "            'Mozilla/5.0 (Windows NT 6.3; Win64; x64) AppleWebKit/537.36 (KHTML, like Gecko) Chrome/60.0.3112.113 Safari/537.36',\n",
    "            'Mozilla/5.0 (Windows NT 10.0; Win64; x64) AppleWebKit/537.36 (KHTML, like Gecko) Chrome/57.0.2987.133 Safari/537.36',\n",
    "            'Mozilla/5.0 (Windows NT 6.1; Win64; x64) AppleWebKit/537.36 (KHTML, like Gecko) Chrome/57.0.2987.133 Safari/537.36',\n",
    "            'Mozilla/5.0 (Windows NT 10.0; Win64; x64) AppleWebKit/537.36 (KHTML, like Gecko) Chrome/55.0.2883.87 Safari/537.36',\n",
    "            'Mozilla/5.0 (Windows NT 6.1; Win64; x64) AppleWebKit/537.36 (KHTML, like Gecko) Chrome/55.0.2883.87 Safari/537.36',\n",
    "            #Firefox\n",
    "            'Mozilla/4.0 (compatible; MSIE 9.0; Windows NT 6.1)',\n",
    "            'Mozilla/5.0 (Windows NT 6.1; WOW64; Trident/7.0; rv:11.0) like Gecko',\n",
    "            'Mozilla/5.0 (compatible; MSIE 9.0; Windows NT 6.1; WOW64; Trident/5.0)',\n",
    "            'Mozilla/5.0 (Windows NT 6.1; Trident/7.0; rv:11.0) like Gecko',\n",
    "            'Mozilla/5.0 (Windows NT 6.2; WOW64; Trident/7.0; rv:11.0) like Gecko',\n",
    "            'Mozilla/5.0 (Windows NT 10.0; WOW64; Trident/7.0; rv:11.0) like Gecko',\n",
    "            'Mozilla/5.0 (compatible; MSIE 9.0; Windows NT 6.0; Trident/5.0)',\n",
    "            'Mozilla/5.0 (Windows NT 6.3; WOW64; Trident/7.0; rv:11.0) like Gecko',\n",
    "            'Mozilla/5.0 (compatible; MSIE 9.0; Windows NT 6.1; Trident/5.0)',\n",
    "            'Mozilla/5.0 (Windows NT 6.1; Win64; x64; Trident/7.0; rv:11.0) like Gecko',\n",
    "            'Mozilla/5.0 (compatible; MSIE 10.0; Windows NT 6.1; WOW64; Trident/6.0)',\n",
    "            'Mozilla/5.0 (compatible; MSIE 10.0; Windows NT 6.1; Trident/6.0)',\n",
    "            'Mozilla/4.0 (compatible; MSIE 8.0; Windows NT 5.1; Trident/4.0; .NET CLR 2.0.50727; .NET CLR 3.0.4506.2152; .NET CLR 3.5.30729)'\n",
    "        ]\n",
    "    \n",
    "    \n",
    "    book_metadata['Description']=''\n",
    "    book_metadata['Price']=''\n",
    "    book_metadata['Rating']=''\n",
    "    for i in range(len(book_metadata)):\n",
    "        \n",
    "        #User Agents to prevent bot detection\n",
    "        user_agent=random.choice(user_agent_list)\n",
    "        book_isbn=book_metadata['ASIN'].iloc[i]\n",
    "        \n",
    "        print(book_isbn)\n",
    "        base_url = \"https://www.amazon.com/s/ref=nb_sb_noss?url=search-alias%3Dstripbooks-intl-ship&field-keywords=\"\n",
    "        url=base_url+book_isbn\n",
    "        print(url)\n",
    "        headers={'User-Agent':user_agent}\n",
    "        book_response=requests.get(url,headers=headers)\n",
    "        if book_response.status_code != 200:\n",
    "            print(\"Getting Book Details Failed\")\n",
    "            return None\n",
    "        else:\n",
    "            result_page=bs(book_response.content,'lxml')\n",
    "            all_book_a_tags=result_page.find(\"a\",class_=\"a-link-normal s-access-detail-page s-color-twister-title-link a-text-normal\")\n",
    "            try:\n",
    "                book_url=all_book_a_tags.get(\"href\")\n",
    "                description,price,rating=get_book_description(book_url,user_agent_list)\n",
    "            except: \n",
    "                continue\n",
    "            print(description,price,rating)\n",
    "#             book_descriptions.append(description)\n",
    "#             book_price.append(price)\n",
    "#             book_rating.append(rating)\n",
    "        book_metadata['Description'].iloc[i]=description\n",
    "        book_metadata['Price'].iloc[i]=price\n",
    "        book_metadata['Rating'].iloc[i]=rating\n",
    "        book_metadata.to_csv(my_csvfile,encoding='utf-8') #save data after each query\n",
    "#     book_metadata['Description']=book_descriptions\n",
    "#     book_metadata['Price']=book_price\n",
    "#     book_metadata['Rating']=book_rating\n",
    "    \n",
    "    return book_metadata\n",
    "    \n",
    "\n"
   ]
  },
  {
   "cell_type": "markdown",
   "metadata": {},
   "source": [
    "<h3> Write code to pull the following - </h3>\n",
    " \n",
    "<h4> \n",
    "<li> Description </li>\n",
    "<li> Rating </li>\n",
    "<li> Price </li>\n",
    "    \n",
    "</h4>    "
   ]
  },
  {
   "cell_type": "code",
   "execution_count": 61,
   "metadata": {
    "collapsed": true
   },
   "outputs": [],
   "source": [
    "def get_book_description(url,user_agent_list):\n",
    "    book_description=''\n",
    "    book_rating=''\n",
    "    book_price=''\n",
    "    print(url)\n",
    "    #User Agents to prevent bot detection\n",
    "    user_agent = random.choice(user_agent_list)\n",
    "    headers = {'User-Agent': user_agent}\n",
    "    \n",
    "    #Throttling to spoof the server into believe these are generated by users\n",
    "    time.sleep(7)\n",
    "    \n",
    "    book_description_response=requests.get(url,headers=headers)\n",
    "    if book_description_response.status_code!=200:\n",
    "        print(\"Error in scraping description\")\n",
    "        return None\n",
    "    else:\n",
    "        book_page=bs(book_description_response.content,\"lxml\")\n",
    "        a1=book_page.find('div',{'id':'a-page'})\n",
    "        a2=a1.find('div',class_='book en_US').find('div',class_='a-container').find('div',{'id':'centerCol'})\n",
    "        try:\n",
    "            book_description=a2.find('div',{'id':'bookDescription_feature_div'}).find('noscript').find('div').get_text()\n",
    "        except:\n",
    "            book_description=np.NAN\n",
    "        try:\n",
    "            book_rating=a2.find('div',{'id':'averageCustomerReviews_feature_div'}).find('span',class_='a-declarative').find('span',{'id':'acrPopover'}).find('span',class_='a-declarative').find('a').find('i').find('span').get_text().split()[0]    \n",
    "        except:\n",
    "            book_rating=np.NAN\n",
    "        try:\n",
    "            book_price=a2.find('div',{'id':'MediaMatrix'}).find('div').find('div',{'id':'tmmSwatches'}).find('ul').find('li',class_='swatchElement selected').find('span').find('span').find('span').find('span',class_='a-color-base').find('span').get_text().strip()\n",
    "        except:\n",
    "            book_price=np.NAN\n",
    "        return book_description,book_price,book_rating"
   ]
  },
  {
   "cell_type": "markdown",
   "metadata": {},
   "source": [
    "<h3> You might need to batch the kaggle dataset into sets of 1000 rows. Takes a few hours to run</h3>"
   ]
  },
  {
   "cell_type": "code",
   "execution_count": 73,
   "metadata": {},
   "outputs": [
    {
     "name": "stderr",
     "output_type": "stream",
     "text": [
      "/Users/LovelyCheuk/anaconda/lib/python3.6/site-packages/ipykernel_launcher.py:43: SettingWithCopyWarning: \n",
      "A value is trying to be set on a copy of a slice from a DataFrame.\n",
      "Try using .loc[row_indexer,col_indexer] = value instead\n",
      "\n",
      "See the caveats in the documentation: http://pandas.pydata.org/pandas-docs/stable/indexing.html#indexing-view-versus-copy\n",
      "/Users/LovelyCheuk/anaconda/lib/python3.6/site-packages/ipykernel_launcher.py:44: SettingWithCopyWarning: \n",
      "A value is trying to be set on a copy of a slice from a DataFrame.\n",
      "Try using .loc[row_indexer,col_indexer] = value instead\n",
      "\n",
      "See the caveats in the documentation: http://pandas.pydata.org/pandas-docs/stable/indexing.html#indexing-view-versus-copy\n",
      "/Users/LovelyCheuk/anaconda/lib/python3.6/site-packages/ipykernel_launcher.py:45: SettingWithCopyWarning: \n",
      "A value is trying to be set on a copy of a slice from a DataFrame.\n",
      "Try using .loc[row_indexer,col_indexer] = value instead\n",
      "\n",
      "See the caveats in the documentation: http://pandas.pydata.org/pandas-docs/stable/indexing.html#indexing-view-versus-copy\n"
     ]
    },
    {
     "name": "stdout",
     "output_type": "stream",
     "text": [
      "1250150183\n",
      "https://www.amazon.com/s/ref=nb_sb_noss?url=search-alias%3Dstripbooks-intl-ship&field-keywords=1250150183\n",
      "https://www.amazon.com/Swamp-Washingtons-Murky-Corruption-Cronyism/dp/1250150183/ref=sr_1_1/144-7503819-0199013?s=books&ie=UTF8&qid=1543087649&sr=1-1&keywords=1250150183\n",
      " The Instant New York Times and USA Today Bestseller!When Washington D.C. was first built, it was on top of a swamp that had to be drained. Donald Trump says it's time to drain it again. In The Swamp, bestselling author Eric Bolling presents an infuriating, amusing, revealing, and outrageous history of American politics, past and present, Republican and Democrat. From national political scandals to tempests in a teapot that blew up; bribery, blackmail, bullying, and backroom deals that contradicted public policies; cronyism that cost taxpayers hundreds upon hundreds of millions of dollars; and personal conduct that can only be described as regrettable, The Swamp is a journey downriver through the bayous and marshes of Capitol Hill and Foggy Bottom. The presidential election of 2016 was ugly, but it exposed a political, media, industry, and elite establishment that desperately wanted to elect a politician who received millions of dollars from terror-funding states over a businessman willing to tell the corrupt or incompetent, “You’re fired.”The book concludes with a series of recommendations for President Trump: practical, hard-headed, and concise ways to drain the swamp and force Washington to be more transparent, more accountable, and more effective in how it serves those who have elected its politicians and pay the bills for their decisions.Last year President Trump declared Wake Up America to be a \"huge\" book; Eric Bolling's second book is sure to build on that success. Entertaining and timely, The Swamp is the perfect book for today's political climate. $5.95 4.5\n",
      "0778319997\n",
      "https://www.amazon.com/s/ref=nb_sb_noss?url=search-alias%3Dstripbooks-intl-ship&field-keywords=0778319997\n"
     ]
    },
    {
     "name": "stderr",
     "output_type": "stream",
     "text": [
      "/Users/LovelyCheuk/anaconda/lib/python3.6/site-packages/ipykernel_launcher.py:73: SettingWithCopyWarning: \n",
      "A value is trying to be set on a copy of a slice from a DataFrame\n",
      "\n",
      "See the caveats in the documentation: http://pandas.pydata.org/pandas-docs/stable/indexing.html#indexing-view-versus-copy\n",
      "/Users/LovelyCheuk/anaconda/lib/python3.6/site-packages/ipykernel_launcher.py:74: SettingWithCopyWarning: \n",
      "A value is trying to be set on a copy of a slice from a DataFrame\n",
      "\n",
      "See the caveats in the documentation: http://pandas.pydata.org/pandas-docs/stable/indexing.html#indexing-view-versus-copy\n",
      "/Users/LovelyCheuk/anaconda/lib/python3.6/site-packages/ipykernel_launcher.py:75: SettingWithCopyWarning: \n",
      "A value is trying to be set on a copy of a slice from a DataFrame\n",
      "\n",
      "See the caveats in the documentation: http://pandas.pydata.org/pandas-docs/stable/indexing.html#indexing-view-versus-copy\n"
     ]
    },
    {
     "name": "stdout",
     "output_type": "stream",
     "text": [
      "https://www.amazon.com/Rise-Shine-Benedict-Stone-Novel/dp/0778319997/ref=sr_1_1/130-0756217-0674452?s=books&ie=UTF8&qid=1543087658&sr=1-1&keywords=0778319997\n",
      " Phaedra Patrick's debut novel, The Curious Charms of Arthur Pepper, was hailed as \"poignant\" and \"utterly endearing.\" Now she returns with Rise and Shine, Benedict Stone, a gem of a novel about family, forgiveness and one man's second chance at happiness. Moonstone for empathy. Azurite for memories. Lapis lazuli for truth",
      " In the quiet village of Noon Sun, Benedict Stone has settled into a complacent and predictable routine. Business at his jewelry shop has dried up; his marriage is on the rocks. His life is in desperate need of a jump start",
      " And then a surprise arrives at his door. Gemma is Benedict's audacious teenage niecethe daughter of his estranged brother, Charlie. The two Stone brothers had a falling out and haven't spoken in almost two decades, since Charlie left for America. Reckless and stubborn, Gemma invites herself into Benedict's world and turns his orderly life upside down. But she might just be exactly what he needs to get his life back on track",
      " Filled with colorful characters and irresistible charm, Rise and Shine, Benedict Stone is a luminous reminder of the unbreakable bonds of family, and shows that having someone to embrace life with is always better than standing on your own. $16.99 4.2\n",
      "1608322564\n",
      "https://www.amazon.com/s/ref=nb_sb_noss?url=search-alias%3Dstripbooks-intl-ship&field-keywords=1608322564\n",
      "https://www.amazon.com/Sell-Be-Sold-Your-Business/dp/1608322564/ref=sr_1_1/134-4412458-1700360?s=books&ie=UTF8&qid=1543087668&sr=1-1&keywords=1608322564\n",
      " Whether it's selling your company's product in the boardroom or selling yourself on eating healthy, everything in life can and should be treated as a sale. And as sales expert Grant Cardone explains, knowing the principles of selling is a prerequisite for success of any kind.   In Sell or Be Sold, Cardone breaks down the techniques and approaches necessary to master the art of selling in any avenue. You will learn how to handle rejection, turn around negative situations, shorten sales cycles, and guarantee yourself greatness. Cardone will also teach you the success essentials of  Selling in a bad economy  Overcoming call reluctance  Filling your pipeline with new business  Staying positive, despite rejection  With the experience of a seasoned sales vet at the helm, Sell or Be Sold will change the way you perceive the sale and life. $23.08 4.6\n"
     ]
    }
   ],
   "source": [
    "#Be very careful when running the function\n",
    "df_final=amazon_description(Df_read) \n",
    "#print(random.__file__)"
   ]
  },
  {
   "cell_type": "markdown",
   "metadata": {},
   "source": [
    "<h3> Save the file. </h3>"
   ]
  },
  {
   "cell_type": "code",
   "execution_count": 70,
   "metadata": {},
   "outputs": [
    {
     "data": {
      "text/html": [
       "<div>\n",
       "<style scoped>\n",
       "    .dataframe tbody tr th:only-of-type {\n",
       "        vertical-align: middle;\n",
       "    }\n",
       "\n",
       "    .dataframe tbody tr th {\n",
       "        vertical-align: top;\n",
       "    }\n",
       "\n",
       "    .dataframe thead th {\n",
       "        text-align: right;\n",
       "    }\n",
       "</style>\n",
       "<table border=\"1\" class=\"dataframe\">\n",
       "  <thead>\n",
       "    <tr style=\"text-align: right;\">\n",
       "      <th></th>\n",
       "      <th>ASIN</th>\n",
       "      <th>GROUP</th>\n",
       "      <th>FORMAT</th>\n",
       "      <th>TITLE</th>\n",
       "      <th>AUTHOR</th>\n",
       "      <th>PUBLISHER</th>\n",
       "      <th>Description</th>\n",
       "      <th>Price</th>\n",
       "      <th>Rating</th>\n",
       "    </tr>\n",
       "  </thead>\n",
       "  <tbody>\n",
       "    <tr>\n",
       "      <th>0</th>\n",
       "      <td>1250150183</td>\n",
       "      <td>book</td>\n",
       "      <td>hardcover</td>\n",
       "      <td>The Swamp: Washington's Murky Pool of Corrupti...</td>\n",
       "      <td>Eric Bolling</td>\n",
       "      <td>St. Martin's Press</td>\n",
       "      <td>The Instant New York Times and USA Today Best...</td>\n",
       "      <td>$5.95</td>\n",
       "      <td>4.5</td>\n",
       "    </tr>\n",
       "    <tr>\n",
       "      <th>1</th>\n",
       "      <td>0778319997</td>\n",
       "      <td>book</td>\n",
       "      <td>hardcover</td>\n",
       "      <td>Rise and Shine, Benedict Stone: A Novel</td>\n",
       "      <td>Phaedra Patrick</td>\n",
       "      <td>Park Row Books</td>\n",
       "      <td>Phaedra Patrick's debut novel, The Curious Ch...</td>\n",
       "      <td>$16.99</td>\n",
       "      <td>4.2</td>\n",
       "    </tr>\n",
       "    <tr>\n",
       "      <th>2</th>\n",
       "      <td>1608322564</td>\n",
       "      <td>book</td>\n",
       "      <td>hardcover</td>\n",
       "      <td>Sell or Be Sold: How to Get Your Way in Busine...</td>\n",
       "      <td>Grant Cardone</td>\n",
       "      <td>Greenleaf Book Group Press</td>\n",
       "      <td>Whether it's selling your company's product i...</td>\n",
       "      <td>$23.08</td>\n",
       "      <td>4.6</td>\n",
       "    </tr>\n",
       "  </tbody>\n",
       "</table>\n",
       "</div>"
      ],
      "text/plain": [
       "         ASIN GROUP     FORMAT  \\\n",
       "0  1250150183  book  hardcover   \n",
       "1  0778319997  book  hardcover   \n",
       "2  1608322564  book  hardcover   \n",
       "\n",
       "                                               TITLE           AUTHOR  \\\n",
       "0  The Swamp: Washington's Murky Pool of Corrupti...     Eric Bolling   \n",
       "1            Rise and Shine, Benedict Stone: A Novel  Phaedra Patrick   \n",
       "2  Sell or Be Sold: How to Get Your Way in Busine...    Grant Cardone   \n",
       "\n",
       "                    PUBLISHER  \\\n",
       "0          St. Martin's Press   \n",
       "1              Park Row Books   \n",
       "2  Greenleaf Book Group Press   \n",
       "\n",
       "                                         Description   Price Rating  \n",
       "0   The Instant New York Times and USA Today Best...   $5.95    4.5  \n",
       "1   Phaedra Patrick's debut novel, The Curious Ch...  $16.99    4.2  \n",
       "2   Whether it's selling your company's product i...  $23.08    4.6  "
      ]
     },
     "execution_count": 70,
     "metadata": {},
     "output_type": "execute_result"
    }
   ],
   "source": [
    "#df_final\n",
    "df_final.to_csv('file2_lily.csv',encoding='utf-8')"
   ]
  },
  {
   "cell_type": "markdown",
   "metadata": {},
   "source": [
    "<h3>4. Rename ISBN-13 to ASIN for future merge</h3>"
   ]
  },
  {
   "cell_type": "code",
   "execution_count": null,
   "metadata": {},
   "outputs": [],
   "source": [
    "# df_az.rename(columns={'ISBN-13':'ASIN'})"
   ]
  },
  {
   "cell_type": "markdown",
   "metadata": {},
   "source": [
    "<h1>Kaggle Dataset Processing</h1>"
   ]
  },
  {
   "cell_type": "markdown",
   "metadata": {},
   "source": [
    "<h4><font color='red'>Note:</font color='red'> you will need to change the path to your directory when you want to run/edit</h4>"
   ]
  },
  {
   "cell_type": "markdown",
   "metadata": {},
   "source": [
    "<h3>1. File import</h3>"
   ]
  },
  {
   "cell_type": "code",
   "execution_count": null,
   "metadata": {
    "collapsed": true,
    "scrolled": true
   },
   "outputs": [],
   "source": [
    "import pandas as pd\n",
    "#path_kaggle = r'C:\\Users\\endwy\\Documents\\Columbia MSBA\\Fall 2018\\E4501 - Tools for Analytics\\Project\\kaggle data\\amazon_com_extras.csv'\n",
    "path_kaggle = './amazon_com_extras.csv' #download from https://www.kaggle.com/ucffool/amazon-sales-rank-data-for-print-and-kindle-books/version/3\n",
    "\n",
    "with open(path_kaggle):\n",
    "    #Added fields since line 808 in csv has more than 6 cols and needs to be told to ignore extra data.\n",
    "    \n",
    "    fields=['ASIN','GROUP','FORMAT','TITLE','AUTHOR','PUBLISHER']\n",
    "    df_kaggle = pd.read_csv(path_kaggle, encoding='latin1', dtype=str,usecols=fields)"
   ]
  },
  {
   "cell_type": "markdown",
   "metadata": {},
   "source": [
    "<h3>3. Merge Amazon scrape andKkaggle dfs</h3>"
   ]
  },
  {
   "cell_type": "code",
   "execution_count": null,
   "metadata": {},
   "outputs": [],
   "source": [
    "# merge = pd.merge(df_az,df_kaggle, on='ASIN',how='left')"
   ]
  },
  {
   "cell_type": "markdown",
   "metadata": {},
   "source": [
    "<h3>4. Save out</h3>"
   ]
  },
  {
   "cell_type": "code",
   "execution_count": null,
   "metadata": {
    "collapsed": true
   },
   "outputs": [],
   "source": [
    "# merge.to_csv('C:\\Users\\endwy\\Documents\\Columbia MSBA\\Fall 2018\\E4501 - Tools for Analytics\\Project\\kaggle data\\processed.csv', index=False)"
   ]
  },
  {
   "cell_type": "markdown",
   "metadata": {},
   "source": [
    "<h1><font color='red'>Note: </font color='red'></h1><h2>Running the following will convert .ipynb to .py </h2>"
   ]
  },
  {
   "cell_type": "code",
   "execution_count": null,
   "metadata": {
    "collapsed": true
   },
   "outputs": [],
   "source": [
    "!jupyter nbconvert --to script AZscraping.ipynb"
   ]
  }
 ],
 "metadata": {
  "kernelspec": {
   "display_name": "Python 3",
   "language": "python",
   "name": "python3"
  },
  "language_info": {
   "codemirror_mode": {
    "name": "ipython",
    "version": 3
   },
   "file_extension": ".py",
   "mimetype": "text/x-python",
   "name": "python",
   "nbconvert_exporter": "python",
   "pygments_lexer": "ipython3",
   "version": "3.6.1"
  }
 },
 "nbformat": 4,
 "nbformat_minor": 2
}
